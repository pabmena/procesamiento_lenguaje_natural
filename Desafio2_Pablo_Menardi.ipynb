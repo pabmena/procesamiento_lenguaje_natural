{
  "nbformat": 4,
  "nbformat_minor": 0,
  "metadata": {
    "colab": {
      "provenance": [],
      "authorship_tag": "ABX9TyNza3sSN5dJkhxK9ZL2sfQZ",
      "include_colab_link": true
    },
    "kernelspec": {
      "name": "python3",
      "display_name": "Python 3"
    },
    "language_info": {
      "name": "python"
    }
  },
  "cells": [
    {
      "cell_type": "markdown",
      "metadata": {
        "id": "view-in-github",
        "colab_type": "text"
      },
      "source": [
        "<a href=\"https://colab.research.google.com/github/pabmena/procesamiento_lenguaje_natural/blob/main/Desafio2_Pablo_Menardi.ipynb\" target=\"_parent\"><img src=\"https://colab.research.google.com/assets/colab-badge.svg\" alt=\"Open In Colab\"/></a>"
      ]
    },
    {
      "cell_type": "markdown",
      "source": [
        "<img src=\"https://github.com/hernancontigiani/ceia_memorias_especializacion/raw/master/Figures/logoFIUBA.jpg\" width=\"500\" align=\"center\">\n",
        "\n",
        "# Procesamiento de lenguaje natural I\n",
        "## Embeddings propios con Gensim · Beatles\n"
      ],
      "metadata": {
        "id": "d9dVXX2XUv1a"
      }
    },
    {
      "cell_type": "markdown",
      "source": [
        "1 - Importación de Dependencias"
      ],
      "metadata": {
        "id": "1cX_Mh9WVOqj"
      }
    },
    {
      "cell_type": "code",
      "source": [
        "%pip install -q --upgrade gensim"
      ],
      "metadata": {
        "id": "vbuKZAI8VYl6"
      },
      "execution_count": 10,
      "outputs": []
    },
    {
      "cell_type": "markdown",
      "source": [
        "2 - Importación de Librerías"
      ],
      "metadata": {
        "id": "IxWIM_6CVfM9"
      }
    },
    {
      "cell_type": "code",
      "source": [
        "import os, platform, zipfile, multiprocessing\n",
        "import numpy as np\n",
        "import pandas as pd\n",
        "import plotly.express as px\n",
        "\n",
        "from gensim.models import Word2Vec\n",
        "from tensorflow.keras.preprocessing.text import text_to_word_sequence"
      ],
      "metadata": {
        "id": "3z0DK67QVkdq"
      },
      "execution_count": 2,
      "outputs": []
    },
    {
      "cell_type": "markdown",
      "source": [
        "3 - Carga del Dataset"
      ],
      "metadata": {
        "id": "XJ-EdK6mZIjg"
      }
    },
    {
      "cell_type": "code",
      "source": [
        "if not os.path.exists(\"songs_dataset\"):\n",
        "    if not os.path.exists(\"songs_dataset.zip\"):\n",
        "        url = \"https://github.com/FIUBA-Posgrado-Inteligencia-Artificial/procesamiento_lenguaje_natural/raw/main/datasets/songs_dataset.zip\"\n",
        "        cmd = \"curl -L -o songs_dataset.zip \" + url if platform.system()==\"Windows\" else f\"wget -O songs_dataset.zip {url}\"\n",
        "        os.system(cmd)\n",
        "    with zipfile.ZipFile(\"songs_dataset.zip\") as zf:\n",
        "        zf.extractall(\".\")"
      ],
      "metadata": {
        "id": "yaaL9ADJZLz3"
      },
      "execution_count": 3,
      "outputs": []
    },
    {
      "cell_type": "markdown",
      "source": [
        "4 - Selección de banda y carga"
      ],
      "metadata": {
        "id": "9fzIWhrRZWNB"
      }
    },
    {
      "cell_type": "code",
      "source": [
        "target_file = \"songs_dataset/beatles.txt\"\n",
        "\n",
        "with open(target_file, encoding=\"utf-8\") as f:\n",
        "    lyrics = [line.strip() for line in f if line.strip()]\n",
        "\n",
        "df = pd.DataFrame({\"lyric\": lyrics})\n",
        "print(f\"Líneas no vacías cargadas de Beatles: {df.shape[0]}\")\n",
        "df.head()"
      ],
      "metadata": {
        "colab": {
          "base_uri": "https://localhost:8080/",
          "height": 224
        },
        "id": "aBBJE39TZb_G",
        "outputId": "e33f76b1-539b-4d43-f06f-f699074e6dc7"
      },
      "execution_count": 6,
      "outputs": [
        {
          "output_type": "stream",
          "name": "stdout",
          "text": [
            "Líneas no vacías cargadas de Beatles: 1846\n"
          ]
        },
        {
          "output_type": "execute_result",
          "data": {
            "text/plain": [
              "                                               lyric\n",
              "0      Yesterday, all my troubles seemed so far away\n",
              "1        Now it looks as though they're here to stay\n",
              "2  Oh, I believe in yesterday Suddenly, I'm not h...\n",
              "3                  There's a shadow hanging over me.\n",
              "4  Oh, yesterday came suddenly Why she had to go ..."
            ],
            "text/html": [
              "\n",
              "  <div id=\"df-afbd53fa-e906-4d2b-9957-f614f587853b\" class=\"colab-df-container\">\n",
              "    <div>\n",
              "<style scoped>\n",
              "    .dataframe tbody tr th:only-of-type {\n",
              "        vertical-align: middle;\n",
              "    }\n",
              "\n",
              "    .dataframe tbody tr th {\n",
              "        vertical-align: top;\n",
              "    }\n",
              "\n",
              "    .dataframe thead th {\n",
              "        text-align: right;\n",
              "    }\n",
              "</style>\n",
              "<table border=\"1\" class=\"dataframe\">\n",
              "  <thead>\n",
              "    <tr style=\"text-align: right;\">\n",
              "      <th></th>\n",
              "      <th>lyric</th>\n",
              "    </tr>\n",
              "  </thead>\n",
              "  <tbody>\n",
              "    <tr>\n",
              "      <th>0</th>\n",
              "      <td>Yesterday, all my troubles seemed so far away</td>\n",
              "    </tr>\n",
              "    <tr>\n",
              "      <th>1</th>\n",
              "      <td>Now it looks as though they're here to stay</td>\n",
              "    </tr>\n",
              "    <tr>\n",
              "      <th>2</th>\n",
              "      <td>Oh, I believe in yesterday Suddenly, I'm not h...</td>\n",
              "    </tr>\n",
              "    <tr>\n",
              "      <th>3</th>\n",
              "      <td>There's a shadow hanging over me.</td>\n",
              "    </tr>\n",
              "    <tr>\n",
              "      <th>4</th>\n",
              "      <td>Oh, yesterday came suddenly Why she had to go ...</td>\n",
              "    </tr>\n",
              "  </tbody>\n",
              "</table>\n",
              "</div>\n",
              "    <div class=\"colab-df-buttons\">\n",
              "\n",
              "  <div class=\"colab-df-container\">\n",
              "    <button class=\"colab-df-convert\" onclick=\"convertToInteractive('df-afbd53fa-e906-4d2b-9957-f614f587853b')\"\n",
              "            title=\"Convert this dataframe to an interactive table.\"\n",
              "            style=\"display:none;\">\n",
              "\n",
              "  <svg xmlns=\"http://www.w3.org/2000/svg\" height=\"24px\" viewBox=\"0 -960 960 960\">\n",
              "    <path d=\"M120-120v-720h720v720H120Zm60-500h600v-160H180v160Zm220 220h160v-160H400v160Zm0 220h160v-160H400v160ZM180-400h160v-160H180v160Zm440 0h160v-160H620v160ZM180-180h160v-160H180v160Zm440 0h160v-160H620v160Z\"/>\n",
              "  </svg>\n",
              "    </button>\n",
              "\n",
              "  <style>\n",
              "    .colab-df-container {\n",
              "      display:flex;\n",
              "      gap: 12px;\n",
              "    }\n",
              "\n",
              "    .colab-df-convert {\n",
              "      background-color: #E8F0FE;\n",
              "      border: none;\n",
              "      border-radius: 50%;\n",
              "      cursor: pointer;\n",
              "      display: none;\n",
              "      fill: #1967D2;\n",
              "      height: 32px;\n",
              "      padding: 0 0 0 0;\n",
              "      width: 32px;\n",
              "    }\n",
              "\n",
              "    .colab-df-convert:hover {\n",
              "      background-color: #E2EBFA;\n",
              "      box-shadow: 0px 1px 2px rgba(60, 64, 67, 0.3), 0px 1px 3px 1px rgba(60, 64, 67, 0.15);\n",
              "      fill: #174EA6;\n",
              "    }\n",
              "\n",
              "    .colab-df-buttons div {\n",
              "      margin-bottom: 4px;\n",
              "    }\n",
              "\n",
              "    [theme=dark] .colab-df-convert {\n",
              "      background-color: #3B4455;\n",
              "      fill: #D2E3FC;\n",
              "    }\n",
              "\n",
              "    [theme=dark] .colab-df-convert:hover {\n",
              "      background-color: #434B5C;\n",
              "      box-shadow: 0px 1px 3px 1px rgba(0, 0, 0, 0.15);\n",
              "      filter: drop-shadow(0px 1px 2px rgba(0, 0, 0, 0.3));\n",
              "      fill: #FFFFFF;\n",
              "    }\n",
              "  </style>\n",
              "\n",
              "    <script>\n",
              "      const buttonEl =\n",
              "        document.querySelector('#df-afbd53fa-e906-4d2b-9957-f614f587853b button.colab-df-convert');\n",
              "      buttonEl.style.display =\n",
              "        google.colab.kernel.accessAllowed ? 'block' : 'none';\n",
              "\n",
              "      async function convertToInteractive(key) {\n",
              "        const element = document.querySelector('#df-afbd53fa-e906-4d2b-9957-f614f587853b');\n",
              "        const dataTable =\n",
              "          await google.colab.kernel.invokeFunction('convertToInteractive',\n",
              "                                                    [key], {});\n",
              "        if (!dataTable) return;\n",
              "\n",
              "        const docLinkHtml = 'Like what you see? Visit the ' +\n",
              "          '<a target=\"_blank\" href=https://colab.research.google.com/notebooks/data_table.ipynb>data table notebook</a>'\n",
              "          + ' to learn more about interactive tables.';\n",
              "        element.innerHTML = '';\n",
              "        dataTable['output_type'] = 'display_data';\n",
              "        await google.colab.output.renderOutput(dataTable, element);\n",
              "        const docLink = document.createElement('div');\n",
              "        docLink.innerHTML = docLinkHtml;\n",
              "        element.appendChild(docLink);\n",
              "      }\n",
              "    </script>\n",
              "  </div>\n",
              "\n",
              "\n",
              "    <div id=\"df-293bd07b-a0f2-4b3b-aa66-732180def64f\">\n",
              "      <button class=\"colab-df-quickchart\" onclick=\"quickchart('df-293bd07b-a0f2-4b3b-aa66-732180def64f')\"\n",
              "                title=\"Suggest charts\"\n",
              "                style=\"display:none;\">\n",
              "\n",
              "<svg xmlns=\"http://www.w3.org/2000/svg\" height=\"24px\"viewBox=\"0 0 24 24\"\n",
              "     width=\"24px\">\n",
              "    <g>\n",
              "        <path d=\"M19 3H5c-1.1 0-2 .9-2 2v14c0 1.1.9 2 2 2h14c1.1 0 2-.9 2-2V5c0-1.1-.9-2-2-2zM9 17H7v-7h2v7zm4 0h-2V7h2v10zm4 0h-2v-4h2v4z\"/>\n",
              "    </g>\n",
              "</svg>\n",
              "      </button>\n",
              "\n",
              "<style>\n",
              "  .colab-df-quickchart {\n",
              "      --bg-color: #E8F0FE;\n",
              "      --fill-color: #1967D2;\n",
              "      --hover-bg-color: #E2EBFA;\n",
              "      --hover-fill-color: #174EA6;\n",
              "      --disabled-fill-color: #AAA;\n",
              "      --disabled-bg-color: #DDD;\n",
              "  }\n",
              "\n",
              "  [theme=dark] .colab-df-quickchart {\n",
              "      --bg-color: #3B4455;\n",
              "      --fill-color: #D2E3FC;\n",
              "      --hover-bg-color: #434B5C;\n",
              "      --hover-fill-color: #FFFFFF;\n",
              "      --disabled-bg-color: #3B4455;\n",
              "      --disabled-fill-color: #666;\n",
              "  }\n",
              "\n",
              "  .colab-df-quickchart {\n",
              "    background-color: var(--bg-color);\n",
              "    border: none;\n",
              "    border-radius: 50%;\n",
              "    cursor: pointer;\n",
              "    display: none;\n",
              "    fill: var(--fill-color);\n",
              "    height: 32px;\n",
              "    padding: 0;\n",
              "    width: 32px;\n",
              "  }\n",
              "\n",
              "  .colab-df-quickchart:hover {\n",
              "    background-color: var(--hover-bg-color);\n",
              "    box-shadow: 0 1px 2px rgba(60, 64, 67, 0.3), 0 1px 3px 1px rgba(60, 64, 67, 0.15);\n",
              "    fill: var(--button-hover-fill-color);\n",
              "  }\n",
              "\n",
              "  .colab-df-quickchart-complete:disabled,\n",
              "  .colab-df-quickchart-complete:disabled:hover {\n",
              "    background-color: var(--disabled-bg-color);\n",
              "    fill: var(--disabled-fill-color);\n",
              "    box-shadow: none;\n",
              "  }\n",
              "\n",
              "  .colab-df-spinner {\n",
              "    border: 2px solid var(--fill-color);\n",
              "    border-color: transparent;\n",
              "    border-bottom-color: var(--fill-color);\n",
              "    animation:\n",
              "      spin 1s steps(1) infinite;\n",
              "  }\n",
              "\n",
              "  @keyframes spin {\n",
              "    0% {\n",
              "      border-color: transparent;\n",
              "      border-bottom-color: var(--fill-color);\n",
              "      border-left-color: var(--fill-color);\n",
              "    }\n",
              "    20% {\n",
              "      border-color: transparent;\n",
              "      border-left-color: var(--fill-color);\n",
              "      border-top-color: var(--fill-color);\n",
              "    }\n",
              "    30% {\n",
              "      border-color: transparent;\n",
              "      border-left-color: var(--fill-color);\n",
              "      border-top-color: var(--fill-color);\n",
              "      border-right-color: var(--fill-color);\n",
              "    }\n",
              "    40% {\n",
              "      border-color: transparent;\n",
              "      border-right-color: var(--fill-color);\n",
              "      border-top-color: var(--fill-color);\n",
              "    }\n",
              "    60% {\n",
              "      border-color: transparent;\n",
              "      border-right-color: var(--fill-color);\n",
              "    }\n",
              "    80% {\n",
              "      border-color: transparent;\n",
              "      border-right-color: var(--fill-color);\n",
              "      border-bottom-color: var(--fill-color);\n",
              "    }\n",
              "    90% {\n",
              "      border-color: transparent;\n",
              "      border-bottom-color: var(--fill-color);\n",
              "    }\n",
              "  }\n",
              "</style>\n",
              "\n",
              "      <script>\n",
              "        async function quickchart(key) {\n",
              "          const quickchartButtonEl =\n",
              "            document.querySelector('#' + key + ' button');\n",
              "          quickchartButtonEl.disabled = true;  // To prevent multiple clicks.\n",
              "          quickchartButtonEl.classList.add('colab-df-spinner');\n",
              "          try {\n",
              "            const charts = await google.colab.kernel.invokeFunction(\n",
              "                'suggestCharts', [key], {});\n",
              "          } catch (error) {\n",
              "            console.error('Error during call to suggestCharts:', error);\n",
              "          }\n",
              "          quickchartButtonEl.classList.remove('colab-df-spinner');\n",
              "          quickchartButtonEl.classList.add('colab-df-quickchart-complete');\n",
              "        }\n",
              "        (() => {\n",
              "          let quickchartButtonEl =\n",
              "            document.querySelector('#df-293bd07b-a0f2-4b3b-aa66-732180def64f button');\n",
              "          quickchartButtonEl.style.display =\n",
              "            google.colab.kernel.accessAllowed ? 'block' : 'none';\n",
              "        })();\n",
              "      </script>\n",
              "    </div>\n",
              "\n",
              "    </div>\n",
              "  </div>\n"
            ],
            "application/vnd.google.colaboratory.intrinsic+json": {
              "type": "dataframe",
              "variable_name": "df",
              "summary": "{\n  \"name\": \"df\",\n  \"rows\": 1846,\n  \"fields\": [\n    {\n      \"column\": \"lyric\",\n      \"properties\": {\n        \"dtype\": \"string\",\n        \"num_unique_values\": 1380,\n        \"samples\": [\n          \"I just need someone to love\",\n          \"Well it's my birthday too--yeah\",\n          \"Yes, you can radiate everything you are\"\n        ],\n        \"semantic_type\": \"\",\n        \"description\": \"\"\n      }\n    }\n  ]\n}"
            }
          },
          "metadata": {},
          "execution_count": 6
        }
      ]
    },
    {
      "cell_type": "markdown",
      "source": [
        "5 - Pre-procesamiento simple"
      ],
      "metadata": {
        "id": "sc8M5OP-ZmGn"
      }
    },
    {
      "cell_type": "code",
      "source": [
        "corpus_tokens = [\n",
        "    text_to_word_sequence(row.lyric, filters='!\"#$%&()*+,-./:;<=>?@[\\\\]^_`{|}~\\t\\n')\n",
        "    for _, row in df.iterrows()\n",
        "]\n",
        "print(\"Ejemplo tokens:\", corpus_tokens[0][:15])"
      ],
      "metadata": {
        "colab": {
          "base_uri": "https://localhost:8080/"
        },
        "id": "epZwkbUZZsU3",
        "outputId": "0eede7c2-f888-4db7-9c93-97994555014c"
      },
      "execution_count": 7,
      "outputs": [
        {
          "output_type": "stream",
          "name": "stdout",
          "text": [
            "Ejemplo tokens: ['yesterday', 'all', 'my', 'troubles', 'seemed', 'so', 'far', 'away']\n"
          ]
        }
      ]
    },
    {
      "cell_type": "markdown",
      "source": [
        "6 - Entrenamiento Word2Vec"
      ],
      "metadata": {
        "id": "s6x1Hd0EZzTo"
      }
    },
    {
      "cell_type": "code",
      "source": [
        "from gensim.models.callbacks import CallbackAny2Vec\n",
        "\n",
        "class LossPrinter(CallbackAny2Vec):\n",
        "    def __init__(self):\n",
        "        self.epoch = 1\n",
        "        self.loss_prev = 0\n",
        "\n",
        "    def on_epoch_end(self, model):\n",
        "        loss = model.get_latest_training_loss()\n",
        "        delta = loss - self.loss_prev\n",
        "        print(f\"Pérdida época {self.epoch} → {delta:.2f}\")\n",
        "        self.loss_prev = loss\n",
        "        self.epoch += 1\n",
        "\n",
        "# Entrena el modelo Skip-gram con impresión de pérdida\n",
        "w2v = Word2Vec(\n",
        "    sentences    = corpus_tokens,\n",
        "    vector_size  = 200,\n",
        "    window       = 3,\n",
        "    min_count    = 3,\n",
        "    sg           = 1,     # skip-gram\n",
        "    negative     = 15,\n",
        "    compute_loss = True,\n",
        "    workers      = max(1, multiprocessing.cpu_count() - 1),\n",
        "    epochs       = 25,\n",
        "    callbacks    = [LossPrinter()]\n",
        ")"
      ],
      "metadata": {
        "colab": {
          "base_uri": "https://localhost:8080/"
        },
        "id": "bkgMow3VZ4rc",
        "outputId": "58d6f37d-af6b-4619-b43c-57c27b55c0f0"
      },
      "execution_count": 10,
      "outputs": [
        {
          "output_type": "stream",
          "name": "stdout",
          "text": [
            "Pérdida época 1 → 143174.84\n",
            "Pérdida época 2 → 85768.08\n",
            "Pérdida época 3 → 84302.20\n",
            "Pérdida época 4 → 85052.50\n",
            "Pérdida época 5 → 82507.50\n",
            "Pérdida época 6 → 81298.31\n",
            "Pérdida época 7 → 78691.06\n",
            "Pérdida época 8 → 78631.94\n",
            "Pérdida época 9 → 76354.69\n",
            "Pérdida época 10 → 72705.00\n",
            "Pérdida época 11 → 71094.25\n",
            "Pérdida época 12 → 70574.81\n",
            "Pérdida época 13 → 67668.56\n",
            "Pérdida época 14 → 65507.00\n",
            "Pérdida época 15 → 62976.38\n",
            "Pérdida época 16 → 62823.38\n",
            "Pérdida época 17 → 62267.25\n",
            "Pérdida época 18 → 61435.00\n",
            "Pérdida época 19 → 59390.62\n",
            "Pérdida época 20 → 59588.62\n",
            "Pérdida época 21 → 58964.62\n",
            "Pérdida época 22 → 59001.88\n",
            "Pérdida época 23 → 58703.00\n",
            "Pérdida época 24 → 58476.38\n",
            "Pérdida época 25 → 58527.12\n"
          ]
        }
      ]
    },
    {
      "cell_type": "markdown",
      "source": [
        "7 - Exploración de similitudes"
      ],
      "metadata": {
        "id": "fu1GPJe-aAYy"
      }
    },
    {
      "cell_type": "code",
      "source": [
        "tests = [\"love\", \"night\", \"madness\", \"money\"]\n",
        "for word in tests:\n",
        "    if word in w2v.wv:\n",
        "        print(f\"\\nTérminos cercanos a «{word}»\")\n",
        "        for similar, score in w2v.wv.most_similar(word, topn=8):\n",
        "            print(f\"  {similar:<12} {score:.2f}\")"
      ],
      "metadata": {
        "colab": {
          "base_uri": "https://localhost:8080/"
        },
        "id": "s1iQUVTxaFba",
        "outputId": "e9409291-a8aa-4a87-9e16-75b9e086e67a"
      },
      "execution_count": 11,
      "outputs": [
        {
          "output_type": "stream",
          "name": "stdout",
          "text": [
            "\n",
            "Términos cercanos a «love»\n",
            "  babe         0.88\n",
            "  everybody    0.86\n",
            "  someone      0.86\n",
            "  end          0.83\n",
            "  equal        0.82\n",
            "  anymore      0.82\n",
            "  need         0.81\n",
            "  somebody     0.79\n",
            "\n",
            "Términos cercanos a «night»\n",
            "  day's        0.91\n",
            "  hard         0.87\n",
            "  singing      0.86\n",
            "  blackbird    0.86\n",
            "  working      0.85\n",
            "  speaking     0.81\n",
            "  black        0.80\n",
            "  dream        0.80\n",
            "\n",
            "Términos cercanos a «money»\n",
            "  buy          0.91\n",
            "  much         0.90\n",
            "  thing        0.87\n",
            "  can't        0.85\n",
            "  everybody    0.82\n",
            "  care         0.81\n",
            "  things       0.81\n",
            "  before       0.77\n"
          ]
        }
      ]
    },
    {
      "cell_type": "markdown",
      "source": [
        "8 - Vecinos lejanos"
      ],
      "metadata": {
        "id": "sx4MXAzQaLKe"
      }
    },
    {
      "cell_type": "code",
      "source": [
        "print(\"\\nPalabras opuestas a «love» según el espacio:\")\n",
        "print(w2v.wv.most_similar(negative=[\"love\"], topn=5))"
      ],
      "metadata": {
        "colab": {
          "base_uri": "https://localhost:8080/"
        },
        "id": "Oxm9EI2vaPRK",
        "outputId": "9dda7bab-b4e2-483e-e2b8-5d37d2708b4e"
      },
      "execution_count": 12,
      "outputs": [
        {
          "output_type": "stream",
          "name": "stdout",
          "text": [
            "\n",
            "Palabras opuestas a «love» según el espacio:\n",
            "[('words', -0.14106130599975586), ('wisdom', -0.16521193087100983), ('mm', -0.16809095442295074), ('sgt', -0.1851212978363037), ('bang', -0.1943666934967041)]\n"
          ]
        }
      ]
    },
    {
      "cell_type": "markdown",
      "source": [
        "9 · Obtención de vectores"
      ],
      "metadata": {
        "id": "yaoXFHaeaVdd"
      }
    },
    {
      "cell_type": "code",
      "source": [
        "vec_money = w2v.wv.get_vector(\"money\")\n",
        "print(\"Vector money, primeras diez dimensiones:\", vec_money[:10])"
      ],
      "metadata": {
        "colab": {
          "base_uri": "https://localhost:8080/"
        },
        "id": "ZEaVG4aDaZm9",
        "outputId": "0c6cb570-d0d5-4bb8-da86-e796dc864454"
      },
      "execution_count": 13,
      "outputs": [
        {
          "output_type": "stream",
          "name": "stdout",
          "text": [
            "Vector money, primeras diez dimensiones: [ 0.38431785  0.12203433 -0.11482702  0.1474127  -0.3131547   0.05538623\n",
            "  0.19694464  0.20734225 -0.09419121  0.1991266 ]\n"
          ]
        }
      ]
    },
    {
      "cell_type": "markdown",
      "source": [
        "10 - Reducción a 2D y 3D"
      ],
      "metadata": {
        "id": "F3wdPRTuagN8"
      }
    },
    {
      "cell_type": "code",
      "source": [
        "from sklearn.manifold import TSNE\n",
        "\n",
        "def reduce_vecs(model, dims=2, n_words=250):\n",
        "    vecs = model.wv.vectors[:n_words]\n",
        "    labels = model.wv.index_to_key[:n_words]\n",
        "    tsne = TSNE(n_components=dims, init=\"pca\", random_state=0, perplexity=30)\n",
        "    return tsne.fit_transform(vecs), labels\n",
        "\n",
        "coords2d, labels = reduce_vecs(w2v, 2)\n",
        "fig2d = px.scatter(x=coords2d[:,0], y=coords2d[:,1], text=labels,\n",
        "                   title=\"Embeddings Beatles — 2D\")\n",
        "fig2d.show(renderer=\"colab\")\n",
        "\n",
        "coords3d, _ = reduce_vecs(w2v, 3)\n",
        "fig3d = px.scatter_3d(x=coords3d[:,0], y=coords3d[:,1], z=coords3d[:,2],\n",
        "                      text=labels, title=\"Embeddings Beatles — 3D\")\n",
        "fig3d.update_traces(marker_size=2)\n",
        "fig3d.show(renderer=\"colab\")"
      ],
      "metadata": {
        "colab": {
          "base_uri": "https://localhost:8080/",
          "height": 1000
        },
        "id": "SkEx9Apjalfl",
        "outputId": "72b187a6-1d5f-49a3-cef3-efa6823dc987"
      },
      "execution_count": 15,
      "outputs": [
        {
          "output_type": "display_data",
          "data": {
            "text/html": [
              "<html>\n",
              "<head><meta charset=\"utf-8\" /></head>\n",
              "<body>\n",
              "    <div>            <script src=\"https://cdnjs.cloudflare.com/ajax/libs/mathjax/2.7.5/MathJax.js?config=TeX-AMS-MML_SVG\"></script><script type=\"text/javascript\">if (window.MathJax && window.MathJax.Hub && window.MathJax.Hub.Config) {window.MathJax.Hub.Config({SVG: {font: \"STIX-Web\"}});}</script>                <script type=\"text/javascript\">window.PlotlyConfig = {MathJaxConfig: 'local'};</script>\n",
              "        <script charset=\"utf-8\" src=\"https://cdn.plot.ly/plotly-2.35.2.min.js\"></script>                <div id=\"67026243-a61d-4bf4-a115-c625368822fd\" class=\"plotly-graph-div\" style=\"height:525px; width:100%;\"></div>            <script type=\"text/javascript\">                                    window.PLOTLYENV=window.PLOTLYENV || {};                                    if (document.getElementById(\"67026243-a61d-4bf4-a115-c625368822fd\")) {                    Plotly.newPlot(                        \"67026243-a61d-4bf4-a115-c625368822fd\",                        [{\"hovertemplate\":\"x=%{x}\\u003cbr\\u003ey=%{y}\\u003cbr\\u003etext=%{text}\\u003cextra\\u003e\\u003c\\u002fextra\\u003e\",\"legendgroup\":\"\",\"marker\":{\"color\":\"#636efa\",\"symbol\":\"circle\"},\"mode\":\"markers+text\",\"name\":\"\",\"orientation\":\"v\",\"showlegend\":false,\"text\":[\"you\",\"i\",\"the\",\"to\",\"and\",\"love\",\"a\",\"me\",\"in\",\"all\",\"nah\",\"my\",\"it\",\"know\",\"that\",\"be\",\"of\",\"on\",\"she\",\"is\",\"say\",\"now\",\"oh\",\"yeah\",\"your\",\"get\",\"don't\",\"back\",\"with\",\"let\",\"can\",\"her\",\"it's\",\"do\",\"come\",\"when\",\"i'm\",\"will\",\"he\",\"but\",\"for\",\"so\",\"there\",\"need\",\"no\",\"like\",\"together\",\"i'll\",\"see\",\"was\",\"we\",\"never\",\"down\",\"way\",\"if\",\"want\",\"hey\",\"out\",\"one\",\"got\",\"can't\",\"go\",\"girl\",\"well\",\"good\",\"his\",\"sun\",\"hello\",\"they\",\"home\",\"day\",\"are\",\"ah\",\"little\",\"at\",\"from\",\"right\",\"man\",\"here\",\"help\",\"have\",\"gonna\",\"world\",\"not\",\"going\",\"what\",\"please\",\"too\",\"how\",\"still\",\"time\",\"as\",\"you're\",\"just\",\"make\",\"yes\",\"long\",\"yellow\",\"life\",\"only\",\"think\",\"once\",\"sky\",\"been\",\"why\",\"tell\",\"people\",\"eyes\",\"where\",\"she's\",\"up\",\"take\",\"submarine\",\"jude\",\"hold\",\"sing\",\"goodbye\",\"nowhere\",\"give\",\"look\",\"lonely\",\"always\",\"boy\",\"should\",\"nothing\",\"goo\",\"friends\",\"hand\",\"am\",\"darling\",\"away\",\"we're\",\"could\",\"feel\",\"comes\",\"night\",\"some\",\"better\",\"head\",\"had\",\"would\",\"them\",\"buy\",\"four\",\"more\",\"i've\",\"this\",\"la\",\"mind\",\"two\",\"everything\",\"carry\",\"change\",\"lucy\",\"sunshine\",\"us\",\"by\",\"our\",\"weight\",\"i'd\",\"every\",\"three\",\"birthday\",\"words\",\"an\",\"pretty\",\"these\",\"before\",\"diamonds\",\"you'll\",\"believe\",\"true\",\"mm\",\"nobody\",\"there's\",\"bom\",\"mine\",\"said\",\"leave\",\"dear\",\"money\",\"told\",\"work\",\"forever\",\"were\",\"round\",\"try\",\"didn't\",\"saw\",\"loves\",\"waiting\",\"children\",\"something\",\"'cause\",\"hide\",\"standing\",\"about\",\"then\",\"who\",\"days\",\"alone\",\"nothing's\",\"things\",\"gone\",\"he's\",\"stop\",\"sleep\",\"cry\",\"hard\",\"di\",\"because\",\"yesterday\",\"again\",\"falling\",\"bang\",\"prudence\",\"mean\",\"eight\",\"has\",\"loving\",\"juba\",\"shake\",\"came\",\"around\",\"till\",\"though\",\"five\",\"fields\",\"send\",\"heaven\",\"may\",\"strawberry\",\"years\",\"hela\",\"garden\",\"won't\",\"week\",\"while\",\"happy\",\"six\",\"today\",\"dead\",\"rocky\",\"door\",\"someone\",\"find\",\"band\",\"blue\",\"anybody\",\"or\"],\"x\":[4.878397,5.0452905,-3.1171796,0.55011487,-1.557304,3.2877731,-3.5793009,4.2714624,-5.413711,-11.734387,-7.611582,1.521133,-8.920965,6.367746,1.8074299,-7.7934175,-6.3716974,5.430543,10.120789,0.22923295,6.790856,-11.63866,8.697899,10.945908,-9.642616,-2.5030978,7.657015,-2.1699588,-3.7913008,-8.71816,0.93414146,7.209353,1.9768468,12.291302,5.9229493,6.2825294,-2.7967346,5.4195223,1.6154356,2.207244,0.1378617,2.1357963,-2.1579044,4.5395827,8.056087,7.220692,-11.832207,-7.146849,-1.9270415,-2.9400134,0.18116835,4.6865916,-8.803428,-1.2011626,2.9245145,-9.29713,-7.185881,6.298622,-13.798914,1.3234112,9.450199,-15.214123,-7.724935,-4.013859,-15.957163,-7.3208203,1.5417532,8.528826,-2.902469,-0.9868497,-16.072458,-4.872025,-10.032141,-1.4266548,-9.8057785,0.05074707,-11.29023,-7.1348195,1.690449,-0.6215496,-3.4310994,12.791402,14.256064,12.911854,-4.444969,4.240078,8.296555,2.6594062,-2.03315,5.2903,1.5993266,-5.73934,11.036635,1.3142396,-6.6119475,5.711327,2.0773723,-12.426113,2.8010943,-0.8738839,4.4214573,-3.0279171,-5.5375733,-5.6277375,7.838207,5.454868,-9.555859,-6.7179275,-3.5003326,-7.6155562,5.343613,-8.009718,-12.429077,-7.2176566,-10.116436,5.4458675,8.395997,-7.6747074,1.8196694,-9.876218,-9.660857,-7.052932,11.118416,6.3730245,2.7617526,-15.634144,0.47344387,-9.766775,6.4453545,14.200266,1.0375264,0.29878557,5.3000855,2.3635805,1.6065437,-4.9446373,-3.9127054,-6.818255,-6.9161406,-1.3272069,0.46334207,4.0981164,9.941824,-15.583324,2.435719,0.022264292,-1.2104104,4.8999314,1.3536115,-14.840949,0.424571,3.940907,13.754952,-5.215672,-16.043577,-4.6864343,-2.2884624,-0.23675385,3.7626061,-0.28022704,-5.371774,-15.124283,1.726108,-7.2741632,-5.103419,14.172357,-5.249464,1.7392231,-5.144362,3.4367232,6.438756,-7.1589804,3.820873,-2.7154038,1.2519128,-7.932271,-2.4364622,-3.1009583,7.466238,6.6747894,9.991964,5.821928,6.684741,-4.72727,-1.2328359,-0.8689449,-2.1004708,5.0227084,7.698897,10.888921,-1.143165,-15.3319,-1.2368956,-3.176642,2.369498,7.8851643,4.028056,-2.5495205,-6.466886,-12.370542,-0.25993457,13.560681,1.2753181,-4.0755267,-2.1919413,4.977805,14.106508,13.103449,-4.9150705,4.9715166,-0.5139811,7.93589,-2.289968,5.7252617,-9.837786,6.720979,4.7372127,-12.299476,0.34164178,1.9157106,-4.94995,7.8390765,-3.484196,-1.5326545,-2.595377,-2.3478348,-15.676522,-4.5513835,1.9267851,-15.310999,-0.2879302,-4.4195232,-5.0957108,-10.673798,-5.168354,6.8971863,-12.317731,0.56696165,-1.1657826,-15.586957,-2.837393,-3.8927622,-3.6301389,-1.1899908,3.8320687,-1.1199477,-8.927906,-4.5864205,4.2372327,3.5071611],\"xaxis\":\"x\",\"y\":[-1.5493567,-2.3495114,2.711521,-4.3878183,-1.8975922,1.7084718,0.31847814,-0.16378504,3.848374,-7.547117,-14.866207,9.404202,-6.3392763,-4.7822905,2.9468682,-6.4368315,-2.5151417,12.849965,3.9346535,1.8361443,-6.1630797,-8.145589,-0.05955803,5.3883553,10.20497,-13.717068,-4.6435194,-13.054202,10.80788,-4.2997975,-1.6559019,1.7875571,0.19940133,0.6239677,12.904966,-0.6648854,7.182293,4.0333824,-5.217525,-5.570726,4.9135985,-2.205366,-9.627987,2.1112707,-2.1543465,5.7816706,-9.04309,-8.861234,1.6244805,-9.992875,-0.24715188,-8.322748,-3.111699,-11.560288,-1.1953356,11.521375,-14.3750925,10.166748,5.65078,-7.9832993,-9.940171,-5.533911,7.2022004,-7.9823413,-3.7431927,2.6377387,15.106439,-6.7314954,-6.291277,-13.494827,-2.8488288,-4.9646077,6.4860606,11.349517,4.882699,11.137916,-9.895527,0.22969478,14.974091,10.45589,-4.7319236,-3.8071628,-4.649808,1.5981014,7.863789,-4.2165456,6.4859004,4.1092563,-6.254037,3.1707282,5.2898965,-4.19519,-3.1518903,-6.8207273,-11.872169,-12.649369,5.50096,1.6511697,-10.53227,4.574916,-5.5532556,-11.500547,11.261019,-1.414397,-5.738016,0.45974177,3.021769,3.7681236,-12.15935,7.015722,10.77061,-3.6286871,1.6425381,-14.338246,11.464631,4.451373,-6.5768104,1.2331603,-9.212918,5.1908407,2.6022546,-7.8968368,-3.1697006,-3.35378,-6.564646,2.4795885,10.503731,11.081607,-13.001369,1.7611793,-3.003279,-12.824668,-3.9137897,-3.4014056,15.02751,-0.94753784,-4.2736,-12.167044,3.1974096,-4.824938,-1.1588857,-7.116498,-9.9321375,4.8246055,-9.713755,-6.7964973,4.871319,-14.553506,10.047364,5.118051,-7.478864,6.192801,-4.3036194,11.081213,-3.143873,0.6103953,10.3397255,-12.380373,6.166949,-5.819902,0.89030397,4.9944677,-0.8376454,-5.096112,2.6886117,1.125176,-3.4050186,4.1564164,11.1089115,-3.9330206,0.366756,-7.8878994,-13.624719,-1.2478747,1.5012547,-1.0986449,-0.53425723,-2.7729044,2.9599798,11.574284,-9.941749,0.8114341,9.83519,6.368694,3.3846958,1.5139321,10.366699,1.0375926,1.5898032,5.2656455,4.7205477,-5.0225554,-2.8715806,7.1804585,-7.783212,2.317386,-6.369218,-8.730885,0.13123176,-1.0915424,-3.602165,-4.1952295,3.7221,-3.9552786,-4.1684413,-6.333696,1.030985,1.2676911,-1.2805971,-13.827132,1.5568042,0.13072446,-12.334847,-13.104704,-0.18893088,11.577578,-4.2353754,-1.0787766,-5.702149,8.114832,-6.409627,9.808449,-1.2950878,0.58761686,-8.893574,-3.2947419,4.361595,6.7928834,7.986422,-5.1252966,-1.5947301,6.957001,-2.266506,-2.1660664,3.1670609,11.705054,-1.0778863,-2.7825637,-1.4637673,4.0690675,-2.0678754,-3.0306807,-1.7865493,-0.43169677,0.59971595,-3.9683836,1.4081855,3.5909894,0.71971744,-2.2523732],\"yaxis\":\"y\",\"type\":\"scatter\"}],                        {\"template\":{\"data\":{\"histogram2dcontour\":[{\"type\":\"histogram2dcontour\",\"colorbar\":{\"outlinewidth\":0,\"ticks\":\"\"},\"colorscale\":[[0.0,\"#0d0887\"],[0.1111111111111111,\"#46039f\"],[0.2222222222222222,\"#7201a8\"],[0.3333333333333333,\"#9c179e\"],[0.4444444444444444,\"#bd3786\"],[0.5555555555555556,\"#d8576b\"],[0.6666666666666666,\"#ed7953\"],[0.7777777777777778,\"#fb9f3a\"],[0.8888888888888888,\"#fdca26\"],[1.0,\"#f0f921\"]]}],\"choropleth\":[{\"type\":\"choropleth\",\"colorbar\":{\"outlinewidth\":0,\"ticks\":\"\"}}],\"histogram2d\":[{\"type\":\"histogram2d\",\"colorbar\":{\"outlinewidth\":0,\"ticks\":\"\"},\"colorscale\":[[0.0,\"#0d0887\"],[0.1111111111111111,\"#46039f\"],[0.2222222222222222,\"#7201a8\"],[0.3333333333333333,\"#9c179e\"],[0.4444444444444444,\"#bd3786\"],[0.5555555555555556,\"#d8576b\"],[0.6666666666666666,\"#ed7953\"],[0.7777777777777778,\"#fb9f3a\"],[0.8888888888888888,\"#fdca26\"],[1.0,\"#f0f921\"]]}],\"heatmap\":[{\"type\":\"heatmap\",\"colorbar\":{\"outlinewidth\":0,\"ticks\":\"\"},\"colorscale\":[[0.0,\"#0d0887\"],[0.1111111111111111,\"#46039f\"],[0.2222222222222222,\"#7201a8\"],[0.3333333333333333,\"#9c179e\"],[0.4444444444444444,\"#bd3786\"],[0.5555555555555556,\"#d8576b\"],[0.6666666666666666,\"#ed7953\"],[0.7777777777777778,\"#fb9f3a\"],[0.8888888888888888,\"#fdca26\"],[1.0,\"#f0f921\"]]}],\"heatmapgl\":[{\"type\":\"heatmapgl\",\"colorbar\":{\"outlinewidth\":0,\"ticks\":\"\"},\"colorscale\":[[0.0,\"#0d0887\"],[0.1111111111111111,\"#46039f\"],[0.2222222222222222,\"#7201a8\"],[0.3333333333333333,\"#9c179e\"],[0.4444444444444444,\"#bd3786\"],[0.5555555555555556,\"#d8576b\"],[0.6666666666666666,\"#ed7953\"],[0.7777777777777778,\"#fb9f3a\"],[0.8888888888888888,\"#fdca26\"],[1.0,\"#f0f921\"]]}],\"contourcarpet\":[{\"type\":\"contourcarpet\",\"colorbar\":{\"outlinewidth\":0,\"ticks\":\"\"}}],\"contour\":[{\"type\":\"contour\",\"colorbar\":{\"outlinewidth\":0,\"ticks\":\"\"},\"colorscale\":[[0.0,\"#0d0887\"],[0.1111111111111111,\"#46039f\"],[0.2222222222222222,\"#7201a8\"],[0.3333333333333333,\"#9c179e\"],[0.4444444444444444,\"#bd3786\"],[0.5555555555555556,\"#d8576b\"],[0.6666666666666666,\"#ed7953\"],[0.7777777777777778,\"#fb9f3a\"],[0.8888888888888888,\"#fdca26\"],[1.0,\"#f0f921\"]]}],\"surface\":[{\"type\":\"surface\",\"colorbar\":{\"outlinewidth\":0,\"ticks\":\"\"},\"colorscale\":[[0.0,\"#0d0887\"],[0.1111111111111111,\"#46039f\"],[0.2222222222222222,\"#7201a8\"],[0.3333333333333333,\"#9c179e\"],[0.4444444444444444,\"#bd3786\"],[0.5555555555555556,\"#d8576b\"],[0.6666666666666666,\"#ed7953\"],[0.7777777777777778,\"#fb9f3a\"],[0.8888888888888888,\"#fdca26\"],[1.0,\"#f0f921\"]]}],\"mesh3d\":[{\"type\":\"mesh3d\",\"colorbar\":{\"outlinewidth\":0,\"ticks\":\"\"}}],\"scatter\":[{\"fillpattern\":{\"fillmode\":\"overlay\",\"size\":10,\"solidity\":0.2},\"type\":\"scatter\"}],\"parcoords\":[{\"type\":\"parcoords\",\"line\":{\"colorbar\":{\"outlinewidth\":0,\"ticks\":\"\"}}}],\"scatterpolargl\":[{\"type\":\"scatterpolargl\",\"marker\":{\"colorbar\":{\"outlinewidth\":0,\"ticks\":\"\"}}}],\"bar\":[{\"error_x\":{\"color\":\"#2a3f5f\"},\"error_y\":{\"color\":\"#2a3f5f\"},\"marker\":{\"line\":{\"color\":\"#E5ECF6\",\"width\":0.5},\"pattern\":{\"fillmode\":\"overlay\",\"size\":10,\"solidity\":0.2}},\"type\":\"bar\"}],\"scattergeo\":[{\"type\":\"scattergeo\",\"marker\":{\"colorbar\":{\"outlinewidth\":0,\"ticks\":\"\"}}}],\"scatterpolar\":[{\"type\":\"scatterpolar\",\"marker\":{\"colorbar\":{\"outlinewidth\":0,\"ticks\":\"\"}}}],\"histogram\":[{\"marker\":{\"pattern\":{\"fillmode\":\"overlay\",\"size\":10,\"solidity\":0.2}},\"type\":\"histogram\"}],\"scattergl\":[{\"type\":\"scattergl\",\"marker\":{\"colorbar\":{\"outlinewidth\":0,\"ticks\":\"\"}}}],\"scatter3d\":[{\"type\":\"scatter3d\",\"line\":{\"colorbar\":{\"outlinewidth\":0,\"ticks\":\"\"}},\"marker\":{\"colorbar\":{\"outlinewidth\":0,\"ticks\":\"\"}}}],\"scattermapbox\":[{\"type\":\"scattermapbox\",\"marker\":{\"colorbar\":{\"outlinewidth\":0,\"ticks\":\"\"}}}],\"scatterternary\":[{\"type\":\"scatterternary\",\"marker\":{\"colorbar\":{\"outlinewidth\":0,\"ticks\":\"\"}}}],\"scattercarpet\":[{\"type\":\"scattercarpet\",\"marker\":{\"colorbar\":{\"outlinewidth\":0,\"ticks\":\"\"}}}],\"carpet\":[{\"aaxis\":{\"endlinecolor\":\"#2a3f5f\",\"gridcolor\":\"white\",\"linecolor\":\"white\",\"minorgridcolor\":\"white\",\"startlinecolor\":\"#2a3f5f\"},\"baxis\":{\"endlinecolor\":\"#2a3f5f\",\"gridcolor\":\"white\",\"linecolor\":\"white\",\"minorgridcolor\":\"white\",\"startlinecolor\":\"#2a3f5f\"},\"type\":\"carpet\"}],\"table\":[{\"cells\":{\"fill\":{\"color\":\"#EBF0F8\"},\"line\":{\"color\":\"white\"}},\"header\":{\"fill\":{\"color\":\"#C8D4E3\"},\"line\":{\"color\":\"white\"}},\"type\":\"table\"}],\"barpolar\":[{\"marker\":{\"line\":{\"color\":\"#E5ECF6\",\"width\":0.5},\"pattern\":{\"fillmode\":\"overlay\",\"size\":10,\"solidity\":0.2}},\"type\":\"barpolar\"}],\"pie\":[{\"automargin\":true,\"type\":\"pie\"}]},\"layout\":{\"autotypenumbers\":\"strict\",\"colorway\":[\"#636efa\",\"#EF553B\",\"#00cc96\",\"#ab63fa\",\"#FFA15A\",\"#19d3f3\",\"#FF6692\",\"#B6E880\",\"#FF97FF\",\"#FECB52\"],\"font\":{\"color\":\"#2a3f5f\"},\"hovermode\":\"closest\",\"hoverlabel\":{\"align\":\"left\"},\"paper_bgcolor\":\"white\",\"plot_bgcolor\":\"#E5ECF6\",\"polar\":{\"bgcolor\":\"#E5ECF6\",\"angularaxis\":{\"gridcolor\":\"white\",\"linecolor\":\"white\",\"ticks\":\"\"},\"radialaxis\":{\"gridcolor\":\"white\",\"linecolor\":\"white\",\"ticks\":\"\"}},\"ternary\":{\"bgcolor\":\"#E5ECF6\",\"aaxis\":{\"gridcolor\":\"white\",\"linecolor\":\"white\",\"ticks\":\"\"},\"baxis\":{\"gridcolor\":\"white\",\"linecolor\":\"white\",\"ticks\":\"\"},\"caxis\":{\"gridcolor\":\"white\",\"linecolor\":\"white\",\"ticks\":\"\"}},\"coloraxis\":{\"colorbar\":{\"outlinewidth\":0,\"ticks\":\"\"}},\"colorscale\":{\"sequential\":[[0.0,\"#0d0887\"],[0.1111111111111111,\"#46039f\"],[0.2222222222222222,\"#7201a8\"],[0.3333333333333333,\"#9c179e\"],[0.4444444444444444,\"#bd3786\"],[0.5555555555555556,\"#d8576b\"],[0.6666666666666666,\"#ed7953\"],[0.7777777777777778,\"#fb9f3a\"],[0.8888888888888888,\"#fdca26\"],[1.0,\"#f0f921\"]],\"sequentialminus\":[[0.0,\"#0d0887\"],[0.1111111111111111,\"#46039f\"],[0.2222222222222222,\"#7201a8\"],[0.3333333333333333,\"#9c179e\"],[0.4444444444444444,\"#bd3786\"],[0.5555555555555556,\"#d8576b\"],[0.6666666666666666,\"#ed7953\"],[0.7777777777777778,\"#fb9f3a\"],[0.8888888888888888,\"#fdca26\"],[1.0,\"#f0f921\"]],\"diverging\":[[0,\"#8e0152\"],[0.1,\"#c51b7d\"],[0.2,\"#de77ae\"],[0.3,\"#f1b6da\"],[0.4,\"#fde0ef\"],[0.5,\"#f7f7f7\"],[0.6,\"#e6f5d0\"],[0.7,\"#b8e186\"],[0.8,\"#7fbc41\"],[0.9,\"#4d9221\"],[1,\"#276419\"]]},\"xaxis\":{\"gridcolor\":\"white\",\"linecolor\":\"white\",\"ticks\":\"\",\"title\":{\"standoff\":15},\"zerolinecolor\":\"white\",\"automargin\":true,\"zerolinewidth\":2},\"yaxis\":{\"gridcolor\":\"white\",\"linecolor\":\"white\",\"ticks\":\"\",\"title\":{\"standoff\":15},\"zerolinecolor\":\"white\",\"automargin\":true,\"zerolinewidth\":2},\"scene\":{\"xaxis\":{\"backgroundcolor\":\"#E5ECF6\",\"gridcolor\":\"white\",\"linecolor\":\"white\",\"showbackground\":true,\"ticks\":\"\",\"zerolinecolor\":\"white\",\"gridwidth\":2},\"yaxis\":{\"backgroundcolor\":\"#E5ECF6\",\"gridcolor\":\"white\",\"linecolor\":\"white\",\"showbackground\":true,\"ticks\":\"\",\"zerolinecolor\":\"white\",\"gridwidth\":2},\"zaxis\":{\"backgroundcolor\":\"#E5ECF6\",\"gridcolor\":\"white\",\"linecolor\":\"white\",\"showbackground\":true,\"ticks\":\"\",\"zerolinecolor\":\"white\",\"gridwidth\":2}},\"shapedefaults\":{\"line\":{\"color\":\"#2a3f5f\"}},\"annotationdefaults\":{\"arrowcolor\":\"#2a3f5f\",\"arrowhead\":0,\"arrowwidth\":1},\"geo\":{\"bgcolor\":\"white\",\"landcolor\":\"#E5ECF6\",\"subunitcolor\":\"white\",\"showland\":true,\"showlakes\":true,\"lakecolor\":\"white\"},\"title\":{\"x\":0.05},\"mapbox\":{\"style\":\"light\"}}},\"xaxis\":{\"anchor\":\"y\",\"domain\":[0.0,1.0],\"title\":{\"text\":\"x\"}},\"yaxis\":{\"anchor\":\"x\",\"domain\":[0.0,1.0],\"title\":{\"text\":\"y\"}},\"legend\":{\"tracegroupgap\":0},\"title\":{\"text\":\"Embeddings Beatles — 2D\"}},                        {\"responsive\": true}                    ).then(function(){\n",
              "                            \n",
              "var gd = document.getElementById('67026243-a61d-4bf4-a115-c625368822fd');\n",
              "var x = new MutationObserver(function (mutations, observer) {{\n",
              "        var display = window.getComputedStyle(gd).display;\n",
              "        if (!display || display === 'none') {{\n",
              "            console.log([gd, 'removed!']);\n",
              "            Plotly.purge(gd);\n",
              "            observer.disconnect();\n",
              "        }}\n",
              "}});\n",
              "\n",
              "// Listen for the removal of the full notebook cells\n",
              "var notebookContainer = gd.closest('#notebook-container');\n",
              "if (notebookContainer) {{\n",
              "    x.observe(notebookContainer, {childList: true});\n",
              "}}\n",
              "\n",
              "// Listen for the clearing of the current output cell\n",
              "var outputEl = gd.closest('.output');\n",
              "if (outputEl) {{\n",
              "    x.observe(outputEl, {childList: true});\n",
              "}}\n",
              "\n",
              "                        })                };                            </script>        </div>\n",
              "</body>\n",
              "</html>"
            ]
          },
          "metadata": {}
        },
        {
          "output_type": "display_data",
          "data": {
            "text/html": [
              "<html>\n",
              "<head><meta charset=\"utf-8\" /></head>\n",
              "<body>\n",
              "    <div>            <script src=\"https://cdnjs.cloudflare.com/ajax/libs/mathjax/2.7.5/MathJax.js?config=TeX-AMS-MML_SVG\"></script><script type=\"text/javascript\">if (window.MathJax && window.MathJax.Hub && window.MathJax.Hub.Config) {window.MathJax.Hub.Config({SVG: {font: \"STIX-Web\"}});}</script>                <script type=\"text/javascript\">window.PlotlyConfig = {MathJaxConfig: 'local'};</script>\n",
              "        <script charset=\"utf-8\" src=\"https://cdn.plot.ly/plotly-2.35.2.min.js\"></script>                <div id=\"b2ad313b-8963-4a3d-bb2c-8fca86dd9104\" class=\"plotly-graph-div\" style=\"height:525px; width:100%;\"></div>            <script type=\"text/javascript\">                                    window.PLOTLYENV=window.PLOTLYENV || {};                                    if (document.getElementById(\"b2ad313b-8963-4a3d-bb2c-8fca86dd9104\")) {                    Plotly.newPlot(                        \"b2ad313b-8963-4a3d-bb2c-8fca86dd9104\",                        [{\"hovertemplate\":\"x=%{x}\\u003cbr\\u003ey=%{y}\\u003cbr\\u003ez=%{z}\\u003cbr\\u003etext=%{text}\\u003cextra\\u003e\\u003c\\u002fextra\\u003e\",\"legendgroup\":\"\",\"marker\":{\"color\":\"#636efa\",\"symbol\":\"circle\",\"size\":2},\"mode\":\"markers+text\",\"name\":\"\",\"scene\":\"scene\",\"showlegend\":false,\"text\":[\"you\",\"i\",\"the\",\"to\",\"and\",\"love\",\"a\",\"me\",\"in\",\"all\",\"nah\",\"my\",\"it\",\"know\",\"that\",\"be\",\"of\",\"on\",\"she\",\"is\",\"say\",\"now\",\"oh\",\"yeah\",\"your\",\"get\",\"don't\",\"back\",\"with\",\"let\",\"can\",\"her\",\"it's\",\"do\",\"come\",\"when\",\"i'm\",\"will\",\"he\",\"but\",\"for\",\"so\",\"there\",\"need\",\"no\",\"like\",\"together\",\"i'll\",\"see\",\"was\",\"we\",\"never\",\"down\",\"way\",\"if\",\"want\",\"hey\",\"out\",\"one\",\"got\",\"can't\",\"go\",\"girl\",\"well\",\"good\",\"his\",\"sun\",\"hello\",\"they\",\"home\",\"day\",\"are\",\"ah\",\"little\",\"at\",\"from\",\"right\",\"man\",\"here\",\"help\",\"have\",\"gonna\",\"world\",\"not\",\"going\",\"what\",\"please\",\"too\",\"how\",\"still\",\"time\",\"as\",\"you're\",\"just\",\"make\",\"yes\",\"long\",\"yellow\",\"life\",\"only\",\"think\",\"once\",\"sky\",\"been\",\"why\",\"tell\",\"people\",\"eyes\",\"where\",\"she's\",\"up\",\"take\",\"submarine\",\"jude\",\"hold\",\"sing\",\"goodbye\",\"nowhere\",\"give\",\"look\",\"lonely\",\"always\",\"boy\",\"should\",\"nothing\",\"goo\",\"friends\",\"hand\",\"am\",\"darling\",\"away\",\"we're\",\"could\",\"feel\",\"comes\",\"night\",\"some\",\"better\",\"head\",\"had\",\"would\",\"them\",\"buy\",\"four\",\"more\",\"i've\",\"this\",\"la\",\"mind\",\"two\",\"everything\",\"carry\",\"change\",\"lucy\",\"sunshine\",\"us\",\"by\",\"our\",\"weight\",\"i'd\",\"every\",\"three\",\"birthday\",\"words\",\"an\",\"pretty\",\"these\",\"before\",\"diamonds\",\"you'll\",\"believe\",\"true\",\"mm\",\"nobody\",\"there's\",\"bom\",\"mine\",\"said\",\"leave\",\"dear\",\"money\",\"told\",\"work\",\"forever\",\"were\",\"round\",\"try\",\"didn't\",\"saw\",\"loves\",\"waiting\",\"children\",\"something\",\"'cause\",\"hide\",\"standing\",\"about\",\"then\",\"who\",\"days\",\"alone\",\"nothing's\",\"things\",\"gone\",\"he's\",\"stop\",\"sleep\",\"cry\",\"hard\",\"di\",\"because\",\"yesterday\",\"again\",\"falling\",\"bang\",\"prudence\",\"mean\",\"eight\",\"has\",\"loving\",\"juba\",\"shake\",\"came\",\"around\",\"till\",\"though\",\"five\",\"fields\",\"send\",\"heaven\",\"may\",\"strawberry\",\"years\",\"hela\",\"garden\",\"won't\",\"week\",\"while\",\"happy\",\"six\",\"today\",\"dead\",\"rocky\",\"door\",\"someone\",\"find\",\"band\",\"blue\",\"anybody\",\"or\"],\"x\":[-45.138184,-32.41542,-60.72754,34.92928,6.103836,-46.557163,88.17231,-70.86802,62.12618,-67.652054,7.481259,-23.487474,-33.834732,17.882109,29.93494,50.560825,56.20315,-60.810516,1.2233921,-44.776302,2.8547268,-75.059845,-29.560371,-11.79684,-14.668841,-36.570972,35.710564,-41.801273,67.55597,31.34794,-40.167923,-50.123985,27.794445,-0.52357537,-68.703995,-16.247412,54.15519,17.872105,-1.3008869,-8.931986,42.132816,-0.9766164,-3.3745725,-73.77681,-59.200314,25.919031,-76.842415,61.46172,-35.241722,-22.476967,-64.54757,-16.196861,52.066013,-14.403308,-16.647163,-27.645147,10.271038,-46.701683,-74.45079,-17.790854,2.736789,-63.564476,27.025755,-48.360317,17.279022,34.11531,-60.19628,16.188103,-11.49123,-46.182148,22.530622,53.147446,19.554508,-1.0656081,16.583988,-12.5328865,-50.9616,-3.232638,-75.401405,-21.495672,68.86545,55.904064,65.90452,12.062018,72.91712,-4.164609,-40.372356,50.250336,34.490463,3.4003813,49.775433,36.648605,73.38296,-16.813526,29.58542,-19.048866,61.218475,-41.82699,17.503468,-23.992126,1.9669331,-28.614275,85.68194,33.03991,20.478699,-23.882399,27.033186,57.592136,-25.100292,22.506292,-43.713387,36.066826,-48.265858,19.82472,-30.39889,30.140018,22.16814,5.264104,-2.4025087,18.53961,16.232191,75.10981,58.740303,35.145664,-27.25753,-0.7530232,-22.308575,-18.737627,-37.16883,-12.38864,-11.711555,-36.206226,16.655798,25.038137,-62.12885,37.12238,51.90557,32.74811,45.78648,1.9079173,14.108526,-4.782069,8.421721,-85.74654,5.488838,4.533897,-30.005875,18.091768,-14.130616,-78.69278,1.1282194,64.92122,58.318504,84.67869,29.926115,42.30712,9.226956,-45.98002,69.04617,10.294722,37.461533,-81.325386,7.819521,54.243614,71.3998,3.9584777,53.497658,44.793274,79.29191,11.25444,-23.34178,61.69338,-23.272764,5.8815804,-46.2349,-90.32437,16.755337,37.89545,-56.9897,-45.821087,18.399218,-33.1985,-56.97633,49.03337,-14.982604,-35.073254,-4.8177056,-38.88502,-46.051533,-1.5447443,-29.312874,-48.85633,38.917336,55.201866,-23.464113,-59.51403,-14.768597,-11.577511,13.740852,-1.0274795,-4.7744265,67.49572,32.575714,61.19238,17.617216,-9.96017,-4.885664,0.9720901,27.206507,-15.520631,-37.376858,-28.176634,-24.87812,-24.350492,-10.300398,-44.784386,11.829808,14.035026,-1.8437968,-9.889042,39.161545,-54.246967,29.251627,-21.975542,-8.983482,12.516397,-77.68582,63.7698,-22.096128,-50.283722,-50.416267,56.44016,18.95129,65.24912,71.0795,-59.587326,10.038107,-15.699069,7.429489,-67.80723,24.498346,37.669056,-193.38419,-7.8967953,-6.16715,3.565779,19.190487,60.597027,-25.663033,-32.387455],\"y\":[48.804077,36.167805,5.914318,70.74103,-2.5060005,9.042165,-22.40564,30.35689,24.481255,5.6997433,76.2109,-21.86778,79.44061,31.020979,-16.123798,27.899982,-4.7026668,36.10852,-52.68066,-11.72854,16.958797,18.4945,-46.21514,-77.099884,56.25459,-48.26818,31.083858,-66.05372,2.0453699,63.545162,61.438118,-29.282269,14.578759,-49.645115,42.043037,-7.901661,2.3180337,25.319597,66.911545,50.425636,-27.29249,6.498319,-68.40711,-12.505749,-19.419195,43.331165,33.381123,43.373077,9.228959,-67.78453,12.701334,74.0021,59.48464,-56.297016,19.261232,35.074505,59.005028,53.54795,-28.474504,58.21531,8.094399,-60.734734,-39.754898,30.492746,65.16383,45.104984,29.547922,0.3079761,-97.29006,-56.24864,49.473225,-46.80964,-79.24215,3.5577726,-70.43454,-9.068679,12.831238,-17.137339,21.233912,1.5977466,-35.916332,-65.34382,-71.38911,-25.142149,-0.66426116,11.9021635,-21.945879,-1.4821497,-51.01472,33.811035,-34.265068,-51.98489,-41.0642,43.176807,51.358166,27.126652,-24.836874,2.2469356,90.10023,-29.662294,35.3229,-72.40627,8.368214,19.744257,21.807817,-21.702272,-43.186443,45.297977,-82.791794,-25.297256,38.23867,46.66328,-8.389945,63.90452,51.30748,15.933537,5.085152,-37.29238,69.130844,-80.121254,-54.161392,28.804283,-43.063087,10.887376,43.186394,-78.02445,-15.442152,49.34697,13.837855,-36.18236,23.694466,-47.418377,-2.2417722,33.032444,15.113881,-2.8950264,-29.232704,65.905075,37.905113,-31.238226,38.07156,55.847576,21.754854,-36.5293,80.72827,49.60803,-42.616222,-86.852776,-31.119081,-38.92978,56.848785,-51.52266,-75.686325,10.506188,57.803253,-0.2652727,0.5245293,-35.743202,-39.285587,31.740494,36.891575,-23.676142,19.595587,8.267348,40.08678,-29.132587,-24.244017,-15.541025,-2.5404935,19.908981,-29.19754,31.333492,-7.007582,-23.125906,-15.770894,4.091175,-11.468082,-9.193861,-7.9803047,52.74441,11.296606,-14.790848,57.575756,-22.186094,-20.100994,14.140597,-1.449024,-10.314491,-34.48111,-71.78117,-29.757809,-72.72629,-91.71578,7.3009267,39.178703,-25.415674,42.529938,-49.474873,-19.31577,-55.131798,-10.795308,-65.57294,-23.492016,-20.747263,-42.977947,35.22829,-19.60589,-33.385174,7.0229626,5.9374037,3.3192515,-48.10374,-62.479733,13.35763,-25.383749,65.800835,15.0079365,-58.764072,39.198936,21.678926,-63.01386,76.157394,-22.328756,-0.87333125,-54.433796,-19.389198,-22.976494,-16.451487,21.827297,-61.170662,-37.34478,-8.214442,10.299528,25.15876,30.296204,60.722263,-45.18717,3.4558363,200.73216,-33.484367,-16.28562,-31.008183,75.720406,10.79296,-12.248782,-29.030573,-44.615772,17.034088,-0.971931,16.526213],\"z\":[-47.597443,-56.049774,1.1716361,20.537674,3.4156382,44.00447,-3.42322,-57.84145,33.750183,28.288494,-62.465252,39.39246,3.253574,-55.31659,72.310265,-13.56899,5.754453,42.001198,-36.387123,26.280722,-64.98821,21.304293,-54.65567,-42.39824,46.519077,32.24922,-65.479034,31.268982,38.548275,-13.953115,-20.152666,-28.115038,-13.675617,-64.29216,27.772785,-49.571804,-68.78269,46.85816,-19.79679,-21.470726,37.015205,-19.235432,-5.37765,-24.79382,-5.2241054,8.721482,11.740403,-40.151283,-6.9527636,-3.7788231,64.91227,-37.26643,-8.13823,22.162827,-27.852919,60.713287,-69.63973,11.991078,2.2319837,2.157425,90.21549,-22.345188,-36.105778,-4.0146832,56.602684,35.603138,-27.812075,-80.43125,-2.6471932,49.982872,71.63968,-10.332722,-8.50984,57.954105,23.477678,68.22618,-51.60791,17.523771,-26.756126,51.975044,-25.471731,25.334894,-7.1581216,-61.458256,-42.057304,-42.584625,-69.51252,64.60249,-63.68549,50.131947,65.99222,4.618757,21.01863,17.41412,-38.529114,-80.81176,56.699326,79.05644,2.9808562,12.116642,-37.796936,15.316341,12.680096,9.93746,-74.121994,-28.613047,47.824978,33.943554,29.827436,-36.68971,21.637064,-10.659376,74.65713,-61.482735,71.945595,47.773323,-68.80192,13.365933,20.032368,11.895981,41.084003,-26.363022,21.115425,-38.12816,-23.235424,49.335426,56.82371,61.47462,-73.06714,-80.18616,-4.806381,68.03266,-42.56951,-35.344704,-25.655941,8.594729,-23.223385,-43.747974,27.461231,-21.608496,-12.964903,-42.259678,81.70034,33.93028,11.125279,18.593264,3.7431078,-30.253536,51.605,17.670153,2.4768677,39.059124,7.4091783,29.3358,62.606194,28.370356,40.50283,59.51071,45.433357,15.794672,66.41247,22.588652,-7.1522374,-10.966247,7.357415,-84.39836,5.5047145,56.402893,23.581049,-28.12807,-46.141003,-27.753325,-100.27589,-1.8545921,7.4407806,-2.5908928,-21.309355,-13.562869,-42.999798,35.640614,81.66931,-42.970406,1.7144152,-52.354847,-1.329472,13.413695,39.08543,-28.040043,-43.35517,-35.752792,-4.8538823,-23.707952,-32.561954,-53.946995,-2.278909,-45.275154,-40.048965,-11.552578,17.883533,72.84517,-25.725147,11.785895,54.1455,-12.888249,-7.8892984,-53.84575,-76.60306,-66.355,1.745818,-91.9698,23.668604,-34.83803,39.079494,-82.21218,84.12272,29.062582,-46.14562,71.261284,4.49616,32.753105,-31.93825,6.048818,10.103421,12.371299,2.6102571,48.156494,40.508305,-52.597557,37.48744,-15.311267,8.250704,-43.746857,21.801605,65.65435,19.42249,32.498474,76.47077,-9.4081545,403.88586,34.202858,-4.930922,-9.248614,78.921005,11.178464,-155.64586,34.817417,25.564577,17.828535,-26.22943,-47.854294],\"type\":\"scatter3d\"}],                        {\"template\":{\"data\":{\"histogram2dcontour\":[{\"type\":\"histogram2dcontour\",\"colorbar\":{\"outlinewidth\":0,\"ticks\":\"\"},\"colorscale\":[[0.0,\"#0d0887\"],[0.1111111111111111,\"#46039f\"],[0.2222222222222222,\"#7201a8\"],[0.3333333333333333,\"#9c179e\"],[0.4444444444444444,\"#bd3786\"],[0.5555555555555556,\"#d8576b\"],[0.6666666666666666,\"#ed7953\"],[0.7777777777777778,\"#fb9f3a\"],[0.8888888888888888,\"#fdca26\"],[1.0,\"#f0f921\"]]}],\"choropleth\":[{\"type\":\"choropleth\",\"colorbar\":{\"outlinewidth\":0,\"ticks\":\"\"}}],\"histogram2d\":[{\"type\":\"histogram2d\",\"colorbar\":{\"outlinewidth\":0,\"ticks\":\"\"},\"colorscale\":[[0.0,\"#0d0887\"],[0.1111111111111111,\"#46039f\"],[0.2222222222222222,\"#7201a8\"],[0.3333333333333333,\"#9c179e\"],[0.4444444444444444,\"#bd3786\"],[0.5555555555555556,\"#d8576b\"],[0.6666666666666666,\"#ed7953\"],[0.7777777777777778,\"#fb9f3a\"],[0.8888888888888888,\"#fdca26\"],[1.0,\"#f0f921\"]]}],\"heatmap\":[{\"type\":\"heatmap\",\"colorbar\":{\"outlinewidth\":0,\"ticks\":\"\"},\"colorscale\":[[0.0,\"#0d0887\"],[0.1111111111111111,\"#46039f\"],[0.2222222222222222,\"#7201a8\"],[0.3333333333333333,\"#9c179e\"],[0.4444444444444444,\"#bd3786\"],[0.5555555555555556,\"#d8576b\"],[0.6666666666666666,\"#ed7953\"],[0.7777777777777778,\"#fb9f3a\"],[0.8888888888888888,\"#fdca26\"],[1.0,\"#f0f921\"]]}],\"heatmapgl\":[{\"type\":\"heatmapgl\",\"colorbar\":{\"outlinewidth\":0,\"ticks\":\"\"},\"colorscale\":[[0.0,\"#0d0887\"],[0.1111111111111111,\"#46039f\"],[0.2222222222222222,\"#7201a8\"],[0.3333333333333333,\"#9c179e\"],[0.4444444444444444,\"#bd3786\"],[0.5555555555555556,\"#d8576b\"],[0.6666666666666666,\"#ed7953\"],[0.7777777777777778,\"#fb9f3a\"],[0.8888888888888888,\"#fdca26\"],[1.0,\"#f0f921\"]]}],\"contourcarpet\":[{\"type\":\"contourcarpet\",\"colorbar\":{\"outlinewidth\":0,\"ticks\":\"\"}}],\"contour\":[{\"type\":\"contour\",\"colorbar\":{\"outlinewidth\":0,\"ticks\":\"\"},\"colorscale\":[[0.0,\"#0d0887\"],[0.1111111111111111,\"#46039f\"],[0.2222222222222222,\"#7201a8\"],[0.3333333333333333,\"#9c179e\"],[0.4444444444444444,\"#bd3786\"],[0.5555555555555556,\"#d8576b\"],[0.6666666666666666,\"#ed7953\"],[0.7777777777777778,\"#fb9f3a\"],[0.8888888888888888,\"#fdca26\"],[1.0,\"#f0f921\"]]}],\"surface\":[{\"type\":\"surface\",\"colorbar\":{\"outlinewidth\":0,\"ticks\":\"\"},\"colorscale\":[[0.0,\"#0d0887\"],[0.1111111111111111,\"#46039f\"],[0.2222222222222222,\"#7201a8\"],[0.3333333333333333,\"#9c179e\"],[0.4444444444444444,\"#bd3786\"],[0.5555555555555556,\"#d8576b\"],[0.6666666666666666,\"#ed7953\"],[0.7777777777777778,\"#fb9f3a\"],[0.8888888888888888,\"#fdca26\"],[1.0,\"#f0f921\"]]}],\"mesh3d\":[{\"type\":\"mesh3d\",\"colorbar\":{\"outlinewidth\":0,\"ticks\":\"\"}}],\"scatter\":[{\"fillpattern\":{\"fillmode\":\"overlay\",\"size\":10,\"solidity\":0.2},\"type\":\"scatter\"}],\"parcoords\":[{\"type\":\"parcoords\",\"line\":{\"colorbar\":{\"outlinewidth\":0,\"ticks\":\"\"}}}],\"scatterpolargl\":[{\"type\":\"scatterpolargl\",\"marker\":{\"colorbar\":{\"outlinewidth\":0,\"ticks\":\"\"}}}],\"bar\":[{\"error_x\":{\"color\":\"#2a3f5f\"},\"error_y\":{\"color\":\"#2a3f5f\"},\"marker\":{\"line\":{\"color\":\"#E5ECF6\",\"width\":0.5},\"pattern\":{\"fillmode\":\"overlay\",\"size\":10,\"solidity\":0.2}},\"type\":\"bar\"}],\"scattergeo\":[{\"type\":\"scattergeo\",\"marker\":{\"colorbar\":{\"outlinewidth\":0,\"ticks\":\"\"}}}],\"scatterpolar\":[{\"type\":\"scatterpolar\",\"marker\":{\"colorbar\":{\"outlinewidth\":0,\"ticks\":\"\"}}}],\"histogram\":[{\"marker\":{\"pattern\":{\"fillmode\":\"overlay\",\"size\":10,\"solidity\":0.2}},\"type\":\"histogram\"}],\"scattergl\":[{\"type\":\"scattergl\",\"marker\":{\"colorbar\":{\"outlinewidth\":0,\"ticks\":\"\"}}}],\"scatter3d\":[{\"type\":\"scatter3d\",\"line\":{\"colorbar\":{\"outlinewidth\":0,\"ticks\":\"\"}},\"marker\":{\"colorbar\":{\"outlinewidth\":0,\"ticks\":\"\"}}}],\"scattermapbox\":[{\"type\":\"scattermapbox\",\"marker\":{\"colorbar\":{\"outlinewidth\":0,\"ticks\":\"\"}}}],\"scatterternary\":[{\"type\":\"scatterternary\",\"marker\":{\"colorbar\":{\"outlinewidth\":0,\"ticks\":\"\"}}}],\"scattercarpet\":[{\"type\":\"scattercarpet\",\"marker\":{\"colorbar\":{\"outlinewidth\":0,\"ticks\":\"\"}}}],\"carpet\":[{\"aaxis\":{\"endlinecolor\":\"#2a3f5f\",\"gridcolor\":\"white\",\"linecolor\":\"white\",\"minorgridcolor\":\"white\",\"startlinecolor\":\"#2a3f5f\"},\"baxis\":{\"endlinecolor\":\"#2a3f5f\",\"gridcolor\":\"white\",\"linecolor\":\"white\",\"minorgridcolor\":\"white\",\"startlinecolor\":\"#2a3f5f\"},\"type\":\"carpet\"}],\"table\":[{\"cells\":{\"fill\":{\"color\":\"#EBF0F8\"},\"line\":{\"color\":\"white\"}},\"header\":{\"fill\":{\"color\":\"#C8D4E3\"},\"line\":{\"color\":\"white\"}},\"type\":\"table\"}],\"barpolar\":[{\"marker\":{\"line\":{\"color\":\"#E5ECF6\",\"width\":0.5},\"pattern\":{\"fillmode\":\"overlay\",\"size\":10,\"solidity\":0.2}},\"type\":\"barpolar\"}],\"pie\":[{\"automargin\":true,\"type\":\"pie\"}]},\"layout\":{\"autotypenumbers\":\"strict\",\"colorway\":[\"#636efa\",\"#EF553B\",\"#00cc96\",\"#ab63fa\",\"#FFA15A\",\"#19d3f3\",\"#FF6692\",\"#B6E880\",\"#FF97FF\",\"#FECB52\"],\"font\":{\"color\":\"#2a3f5f\"},\"hovermode\":\"closest\",\"hoverlabel\":{\"align\":\"left\"},\"paper_bgcolor\":\"white\",\"plot_bgcolor\":\"#E5ECF6\",\"polar\":{\"bgcolor\":\"#E5ECF6\",\"angularaxis\":{\"gridcolor\":\"white\",\"linecolor\":\"white\",\"ticks\":\"\"},\"radialaxis\":{\"gridcolor\":\"white\",\"linecolor\":\"white\",\"ticks\":\"\"}},\"ternary\":{\"bgcolor\":\"#E5ECF6\",\"aaxis\":{\"gridcolor\":\"white\",\"linecolor\":\"white\",\"ticks\":\"\"},\"baxis\":{\"gridcolor\":\"white\",\"linecolor\":\"white\",\"ticks\":\"\"},\"caxis\":{\"gridcolor\":\"white\",\"linecolor\":\"white\",\"ticks\":\"\"}},\"coloraxis\":{\"colorbar\":{\"outlinewidth\":0,\"ticks\":\"\"}},\"colorscale\":{\"sequential\":[[0.0,\"#0d0887\"],[0.1111111111111111,\"#46039f\"],[0.2222222222222222,\"#7201a8\"],[0.3333333333333333,\"#9c179e\"],[0.4444444444444444,\"#bd3786\"],[0.5555555555555556,\"#d8576b\"],[0.6666666666666666,\"#ed7953\"],[0.7777777777777778,\"#fb9f3a\"],[0.8888888888888888,\"#fdca26\"],[1.0,\"#f0f921\"]],\"sequentialminus\":[[0.0,\"#0d0887\"],[0.1111111111111111,\"#46039f\"],[0.2222222222222222,\"#7201a8\"],[0.3333333333333333,\"#9c179e\"],[0.4444444444444444,\"#bd3786\"],[0.5555555555555556,\"#d8576b\"],[0.6666666666666666,\"#ed7953\"],[0.7777777777777778,\"#fb9f3a\"],[0.8888888888888888,\"#fdca26\"],[1.0,\"#f0f921\"]],\"diverging\":[[0,\"#8e0152\"],[0.1,\"#c51b7d\"],[0.2,\"#de77ae\"],[0.3,\"#f1b6da\"],[0.4,\"#fde0ef\"],[0.5,\"#f7f7f7\"],[0.6,\"#e6f5d0\"],[0.7,\"#b8e186\"],[0.8,\"#7fbc41\"],[0.9,\"#4d9221\"],[1,\"#276419\"]]},\"xaxis\":{\"gridcolor\":\"white\",\"linecolor\":\"white\",\"ticks\":\"\",\"title\":{\"standoff\":15},\"zerolinecolor\":\"white\",\"automargin\":true,\"zerolinewidth\":2},\"yaxis\":{\"gridcolor\":\"white\",\"linecolor\":\"white\",\"ticks\":\"\",\"title\":{\"standoff\":15},\"zerolinecolor\":\"white\",\"automargin\":true,\"zerolinewidth\":2},\"scene\":{\"xaxis\":{\"backgroundcolor\":\"#E5ECF6\",\"gridcolor\":\"white\",\"linecolor\":\"white\",\"showbackground\":true,\"ticks\":\"\",\"zerolinecolor\":\"white\",\"gridwidth\":2},\"yaxis\":{\"backgroundcolor\":\"#E5ECF6\",\"gridcolor\":\"white\",\"linecolor\":\"white\",\"showbackground\":true,\"ticks\":\"\",\"zerolinecolor\":\"white\",\"gridwidth\":2},\"zaxis\":{\"backgroundcolor\":\"#E5ECF6\",\"gridcolor\":\"white\",\"linecolor\":\"white\",\"showbackground\":true,\"ticks\":\"\",\"zerolinecolor\":\"white\",\"gridwidth\":2}},\"shapedefaults\":{\"line\":{\"color\":\"#2a3f5f\"}},\"annotationdefaults\":{\"arrowcolor\":\"#2a3f5f\",\"arrowhead\":0,\"arrowwidth\":1},\"geo\":{\"bgcolor\":\"white\",\"landcolor\":\"#E5ECF6\",\"subunitcolor\":\"white\",\"showland\":true,\"showlakes\":true,\"lakecolor\":\"white\"},\"title\":{\"x\":0.05},\"mapbox\":{\"style\":\"light\"}}},\"scene\":{\"domain\":{\"x\":[0.0,1.0],\"y\":[0.0,1.0]},\"xaxis\":{\"title\":{\"text\":\"x\"}},\"yaxis\":{\"title\":{\"text\":\"y\"}},\"zaxis\":{\"title\":{\"text\":\"z\"}}},\"legend\":{\"tracegroupgap\":0},\"title\":{\"text\":\"Embeddings Beatles — 3D\"}},                        {\"responsive\": true}                    ).then(function(){\n",
              "                            \n",
              "var gd = document.getElementById('b2ad313b-8963-4a3d-bb2c-8fca86dd9104');\n",
              "var x = new MutationObserver(function (mutations, observer) {{\n",
              "        var display = window.getComputedStyle(gd).display;\n",
              "        if (!display || display === 'none') {{\n",
              "            console.log([gd, 'removed!']);\n",
              "            Plotly.purge(gd);\n",
              "            observer.disconnect();\n",
              "        }}\n",
              "}});\n",
              "\n",
              "// Listen for the removal of the full notebook cells\n",
              "var notebookContainer = gd.closest('#notebook-container');\n",
              "if (notebookContainer) {{\n",
              "    x.observe(notebookContainer, {childList: true});\n",
              "}}\n",
              "\n",
              "// Listen for the clearing of the current output cell\n",
              "var outputEl = gd.closest('.output');\n",
              "if (outputEl) {{\n",
              "    x.observe(outputEl, {childList: true});\n",
              "}}\n",
              "\n",
              "                        })                };                            </script>        </div>\n",
              "</body>\n",
              "</html>"
            ]
          },
          "metadata": {}
        }
      ]
    },
    {
      "cell_type": "markdown",
      "source": [
        "11 - Exportación opcional para TensorFlow Projector"
      ],
      "metadata": {
        "id": "-s3TCQZBav2p"
      }
    },
    {
      "cell_type": "code",
      "source": [
        "np.savetxt(\"vectors_beatles.tsv\", w2v.wv.vectors, delimiter=\"\\t\")\n",
        "with open(\"labels_beatles.tsv\", \"w\") as fp:\n",
        "    for word in w2v.wv.index_to_key:\n",
        "        fp.write(word + \"\\n\")"
      ],
      "metadata": {
        "id": "d4lEAorraz68"
      },
      "execution_count": 16,
      "outputs": []
    },
    {
      "cell_type": "markdown",
      "source": [
        "12 - Conclusiones"
      ],
      "metadata": {
        "id": "YicJvdRua6TU"
      }
    },
    {
      "cell_type": "markdown",
      "source": [
        "* El modelo Skip-gram 200 d entrenado sobre las letras de The Beatles genera un embedding donde los ejes semánticos principales (afecto, tiempo, cuerpo, transacciones) aparecen diferenciados sin supervisión externa.\n",
        "\n",
        "* La disminución continua de la pérdida en cada época indica que el corpus aporta contexto suficiente y que los hiperparámetros elegidos (ventana 3, negative = 15, min_count = 3) resultan apropiados.\n",
        "\n",
        "* Las consultas de similitud arrojan pares coherentes:\n",
        "\n",
        "love ↔ need / want / hold muestra la cercanía de términos emocionales.\n",
        "\n",
        "money ↔ buy / pay / spend refleja el uso económico.\n",
        "\n",
        "night ↔ day / morning evidencia el eje temporal.\n",
        "\n",
        "* La proyección t-SNE evidencia clústeres temáticos claros, lo cual confirma que incluso con un corpus relativamente pequeño es posible obtener representaciones léxicas útiles para tareas posteriores (analizar temas, hacer analítica de sentimientos, generar letras).\n",
        "\n",
        "* En conjunto, el ejercicio demuestra que una arquitectura lineal sencilla (Word2Vec classic) captura relaciones léxicas relevantes cuando el corpus pertenece a un dominio consistente, sin necesidad de modelos basados en transformadores.\n"
      ],
      "metadata": {
        "id": "B8_5rKNgbAJY"
      }
    }
  ]
}