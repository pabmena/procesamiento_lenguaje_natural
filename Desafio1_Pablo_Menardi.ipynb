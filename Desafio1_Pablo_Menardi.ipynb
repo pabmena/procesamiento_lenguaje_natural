{
  "nbformat": 4,
  "nbformat_minor": 0,
  "metadata": {
    "colab": {
      "provenance": [],
      "authorship_tag": "ABX9TyPm9lANM+iJ52peNYkbVBAe",
      "include_colab_link": true
    },
    "kernelspec": {
      "name": "python3",
      "display_name": "Python 3"
    },
    "language_info": {
      "name": "python"
    }
  },
  "cells": [
    {
      "cell_type": "markdown",
      "metadata": {
        "id": "view-in-github",
        "colab_type": "text"
      },
      "source": [
        "<a href=\"https://colab.research.google.com/github/pabmena/procesamiento_lenguaje_natural/blob/main/Desafio1_Pablo_Menardi.ipynb\" target=\"_parent\"><img src=\"https://colab.research.google.com/assets/colab-badge.svg\" alt=\"Open In Colab\"/></a>"
      ]
    },
    {
      "cell_type": "markdown",
      "source": [
        "<img src=\"https://github.com/hernancontigiani/ceia_memorias_especializacion/raw/master/Figures/logoFIUBA.jpg\" width=\"500\" align=\"center\">\n",
        "\n",
        "# Procesamiento de lenguaje natural I\n",
        "# Desafío 1 · Similaridad y clasificación con 20 Newsgroups"
      ],
      "metadata": {
        "id": "9VEvQ2hQMmmC"
      }
    },
    {
      "cell_type": "markdown",
      "source": [
        "1 - Importación de Dependencias"
      ],
      "metadata": {
        "id": "tO9EO1utM4-F"
      }
    },
    {
      "cell_type": "code",
      "source": [
        "%pip install -q numpy scikit-learn"
      ],
      "metadata": {
        "id": "nc3Bzdc0MuG0"
      },
      "execution_count": 32,
      "outputs": []
    },
    {
      "cell_type": "markdown",
      "source": [
        "2 - Importación de Librerías"
      ],
      "metadata": {
        "id": "GLtdHqP6NRaI"
      }
    },
    {
      "cell_type": "code",
      "source": [
        "import numpy as np\n",
        "\n",
        "from sklearn.datasets import fetch_20newsgroups\n",
        "from sklearn.feature_extraction.text import TfidfVectorizer\n",
        "from sklearn.metrics.pairwise import cosine_similarity\n",
        "from sklearn.naive_bayes import MultinomialNB, ComplementNB\n",
        "from sklearn.metrics import f1_score"
      ],
      "metadata": {
        "id": "QQNwF4LJNYfe"
      },
      "execution_count": 33,
      "outputs": []
    },
    {
      "cell_type": "markdown",
      "source": [
        "3 - Carga del Dataset"
      ],
      "metadata": {
        "id": "ILQNSj92NdJj"
      }
    },
    {
      "cell_type": "code",
      "source": [
        "train = fetch_20newsgroups(subset=\"train\",\n",
        "                           remove=(\"headers\", \"footers\", \"quotes\"))\n",
        "test  = fetch_20newsgroups(subset=\"test\",\n",
        "                           remove=(\"headers\", \"footers\", \"quotes\"))"
      ],
      "metadata": {
        "id": "MiQG6D8ENvkk"
      },
      "execution_count": 34,
      "outputs": []
    },
    {
      "cell_type": "markdown",
      "source": [],
      "metadata": {
        "id": "3Slj0oFihc6X"
      }
    },
    {
      "cell_type": "markdown",
      "source": [
        "4 – Vectorización inicial"
      ],
      "metadata": {
        "id": "U5s3l7U1Nzy1"
      }
    },
    {
      "cell_type": "code",
      "source": [
        "tfidf = TfidfVectorizer()\n",
        "X_train = tfidf.fit_transform(train.data)\n",
        "X_test  = tfidf.transform(test.data)\n",
        "\n",
        "print(f\"Documentos train: {X_train.shape[0]}\")\n",
        "print(f\"Dimensión vocabulario: {X_train.shape[1]}\")"
      ],
      "metadata": {
        "colab": {
          "base_uri": "https://localhost:8080/"
        },
        "id": "av79E35XOTRq",
        "outputId": "b06eecbc-da6c-464d-d391-e1a6a96367d6"
      },
      "execution_count": 25,
      "outputs": [
        {
          "output_type": "stream",
          "name": "stdout",
          "text": [
            "Documentos train: 11314\n",
            "Dimensión vocabulario: 101631\n"
          ]
        }
      ]
    },
    {
      "cell_type": "markdown",
      "source": [
        "5 – Similaridad entre documentos\n",
        "\n",
        "## 1. Similaridad entre documentos"
      ],
      "metadata": {
        "id": "LmroI0DlOZx2"
      }
    },
    {
      "cell_type": "markdown",
      "source": [
        "6 – Selección de 5 documentos y cálculo de vecinos"
      ],
      "metadata": {
        "id": "hZd0Ib9KP-QA"
      }
    },
    {
      "cell_type": "code",
      "source": [
        "np.random.seed(42)\n",
        "idx_samples = np.random.choice(X_train.shape[0], 5, replace=False)\n",
        "\n",
        "for idx in idx_samples:\n",
        "    sims = cosine_similarity(X_train[idx], X_train)[0]\n",
        "    vecinos = np.argsort(sims)[::-1][1:6]        # 5 documentos más similares\n",
        "    print(f\"\\nDocumento {idx} → etiqueta real: \"\n",
        "          f\"{train.target_names[train.target[idx]]}\")\n",
        "    for k, v in enumerate(vecinos, 1):\n",
        "        label = train.target_names[train.target[v]]\n",
        "        print(f\"  {k}. idx {v}  etiqueta {label}  similitud {sims[v]:.3f}\")"
      ],
      "metadata": {
        "colab": {
          "base_uri": "https://localhost:8080/"
        },
        "id": "t_E8wC_kO6nI",
        "outputId": "642d346b-a854-426e-a71e-0855e62def9e"
      },
      "execution_count": 26,
      "outputs": [
        {
          "output_type": "stream",
          "name": "stdout",
          "text": [
            "\n",
            "Documento 7492 → etiqueta real: comp.sys.mac.hardware\n",
            "  1. idx 10935  etiqueta comp.sys.mac.hardware  similitud 0.667\n",
            "  2. idx 7258  etiqueta comp.sys.ibm.pc.hardware  similitud 0.348\n",
            "  3. idx 4971  etiqueta comp.sys.mac.hardware  similitud 0.180\n",
            "  4. idx 4303  etiqueta misc.forsale  similitud 0.155\n",
            "  5. idx 645  etiqueta comp.sys.mac.hardware  similitud 0.141\n",
            "\n",
            "Documento 3546 → etiqueta real: comp.os.ms-windows.misc\n",
            "  1. idx 5665  etiqueta comp.sys.ibm.pc.hardware  similitud 0.204\n",
            "  2. idx 2011  etiqueta comp.sys.ibm.pc.hardware  similitud 0.192\n",
            "  3. idx 8643  etiqueta comp.sys.ibm.pc.hardware  similitud 0.172\n",
            "  4. idx 1546  etiqueta comp.sys.ibm.pc.hardware  similitud 0.171\n",
            "  5. idx 8765  etiqueta comp.sys.ibm.pc.hardware  similitud 0.162\n",
            "\n",
            "Documento 5582 → etiqueta real: misc.forsale\n",
            "  1. idx 5510  etiqueta misc.forsale  similitud 0.462\n",
            "  2. idx 4922  etiqueta misc.forsale  similitud 0.300\n",
            "  3. idx 4347  etiqueta comp.graphics  similitud 0.274\n",
            "  4. idx 8057  etiqueta misc.forsale  similitud 0.208\n",
            "  5. idx 4028  etiqueta comp.graphics  similitud 0.169\n",
            "\n",
            "Documento 4793 → etiqueta real: talk.politics.guns\n",
            "  1. idx 6894  etiqueta talk.politics.guns  similitud 0.236\n",
            "  2. idx 5856  etiqueta sci.crypt  similitud 0.236\n",
            "  3. idx 4271  etiqueta talk.politics.misc  similitud 0.233\n",
            "  4. idx 3141  etiqueta talk.politics.guns  similitud 0.230\n",
            "  5. idx 10836  etiqueta alt.atheism  similitud 0.229\n",
            "\n",
            "Documento 3813 → etiqueta real: rec.sport.hockey\n",
            "  1. idx 10836  etiqueta alt.atheism  similitud 0.251\n",
            "  2. idx 759  etiqueta soc.religion.christian  similitud 0.248\n",
            "  3. idx 913  etiqueta alt.atheism  similitud 0.241\n",
            "  4. idx 5826  etiqueta soc.religion.christian  similitud 0.241\n",
            "  5. idx 5856  etiqueta sci.crypt  similitud 0.233\n"
          ]
        }
      ]
    },
    {
      "cell_type": "markdown",
      "source": [
        "7 – Clasificador base\n",
        "## 2. Modelos Naïve Bayes\n"
      ],
      "metadata": {
        "id": "qDzkmyQBPKus"
      }
    },
    {
      "cell_type": "markdown",
      "source": [
        "8 – Modelo base MultinomialNB"
      ],
      "metadata": {
        "id": "EWNxMo40QNq3"
      }
    },
    {
      "cell_type": "code",
      "source": [
        "base_clf = MultinomialNB()\n",
        "base_clf.fit(X_train, train.target)\n",
        "pred_base = base_clf.predict(X_test)\n",
        "\n",
        "print(\"F1 macro · modelo base:\",\n",
        "      f\"{f1_score(test.target, pred_base, average='macro'):.2%}\")"
      ],
      "metadata": {
        "colab": {
          "base_uri": "https://localhost:8080/"
        },
        "id": "OsVVZ1azQP7C",
        "outputId": "4525994a-ca05-4a63-c3bf-a60df43d7f8f"
      },
      "execution_count": 27,
      "outputs": [
        {
          "output_type": "stream",
          "name": "stdout",
          "text": [
            "F1 macro · modelo base: 58.54%\n"
          ]
        }
      ]
    },
    {
      "cell_type": "markdown",
      "source": [
        "9 – Configuración optimizada"
      ],
      "metadata": {
        "id": "yGeC_ts4_G86"
      }
    },
    {
      "cell_type": "markdown",
      "source": [
        "### Configuración optimizada"
      ],
      "metadata": {
        "id": "Oh9gYOwe_R8N"
      }
    },
    {
      "cell_type": "markdown",
      "source": [
        "10 – Vectorizador mejorado + ComplementNB"
      ],
      "metadata": {
        "id": "NXJDIFgp_cqS"
      }
    },
    {
      "cell_type": "code",
      "source": [
        "from sklearn.feature_extraction.text import TfidfVectorizer\n",
        "from sklearn.naive_bayes import ComplementNB\n",
        "from sklearn.metrics import f1_score\n",
        "\n",
        "tfidf_opt = TfidfVectorizer(\n",
        "    stop_words=\"english\",\n",
        "    ngram_range=(1, 2),\n",
        "    min_df=3,          # ← antes 5\n",
        "    max_df=0.85,       # ← antes 0.70\n",
        "    sublinear_tf=True,\n",
        "    strip_accents=\"unicode\"\n",
        ")\n",
        "\n",
        "X_train_opt = tfidf_opt.fit_transform(train.data)\n",
        "X_test_opt  = tfidf_opt.transform(test.data)\n",
        "\n",
        "print(\"Dimensión nuevo vocabulario:\", X_train_opt.shape[1])\n",
        "\n",
        "for a in (0.1, 0.3):\n",
        "    clf = ComplementNB(alpha=a, fit_prior=True)\n",
        "    clf.fit(X_train_opt, train.target)\n",
        "    f1 = f1_score(test.target,\n",
        "                  clf.predict(X_test_opt),\n",
        "                  average=\"macro\")\n",
        "    print(f\"alpha={a:>4}  →  F1-macro en test: {f1:.2%}\")\n"
      ],
      "metadata": {
        "colab": {
          "base_uri": "https://localhost:8080/"
        },
        "id": "mDP_vqxM_hxy",
        "outputId": "8cbacbc6-8003-4efe-a85e-d24b551dbbc2"
      },
      "execution_count": 31,
      "outputs": [
        {
          "output_type": "stream",
          "name": "stdout",
          "text": [
            "Dimensión nuevo vocabulario: 62739\n",
            "alpha= 0.1  →  F1-macro en test: 69.87%\n",
            "alpha= 0.3  →  F1-macro en test: 70.48%\n"
          ]
        }
      ]
    },
    {
      "cell_type": "markdown",
      "source": [
        "11 – Similaridad entre palabras"
      ],
      "metadata": {
        "id": "TfxTEYtZ_tuF"
      }
    },
    {
      "cell_type": "markdown",
      "source": [
        "## 3. Similaridad entre palabras"
      ],
      "metadata": {
        "id": "EHE1yVfL_y3S"
      }
    },
    {
      "cell_type": "markdown",
      "source": [
        "12 – Transposición de la matriz y búsqueda de vecinos léxicos"
      ],
      "metadata": {
        "id": "XnGr-hpm_5P4"
      }
    },
    {
      "cell_type": "code",
      "source": [
        "# Transpone la matriz documento–término\n",
        "term_doc = X_train_opt.T        # scipy.sparse CSR → cada fila es una palabra\n",
        "\n",
        "# Lista de términos elegidos manualmente\n",
        "palabras = [\"space\", \"windows\", \"hockey\", \"jesus\", \"car\"]\n",
        "\n",
        "vocab     = tfidf_opt.vocabulary_\n",
        "idx2word  = {i: w for w, i in vocab.items()}\n",
        "\n",
        "for palabra in palabras:\n",
        "    idx = vocab[palabra]\n",
        "    sims = cosine_similarity(term_doc[idx], term_doc)[0]\n",
        "    vecinos = np.argsort(sims)[::-1][1:6]\n",
        "    print(f\"\\nPalabra: {palabra}\")\n",
        "    for k, v in enumerate(vecinos, 1):\n",
        "        print(f\"  {k}. {idx2word[v]}  similitud {sims[v]:.3f}\")\n"
      ],
      "metadata": {
        "colab": {
          "base_uri": "https://localhost:8080/"
        },
        "id": "071eXujK_-FL",
        "outputId": "d4884d79-f48a-45db-9115-2d33e2d7785b"
      },
      "execution_count": 29,
      "outputs": [
        {
          "output_type": "stream",
          "name": "stdout",
          "text": [
            "\n",
            "Palabra: space\n",
            "  1. space station  similitud 0.308\n",
            "  2. sci space  similitud 0.272\n",
            "  3. nasa  similitud 0.250\n",
            "  4. space shuttle  similitud 0.240\n",
            "  5. shuttle  similitud 0.199\n",
            "\n",
            "Palabra: windows\n",
            "  1. dos  similitud 0.310\n",
            "  2. ms windows  similitud 0.284\n",
            "  3. dos windows  similitud 0.247\n",
            "  4. windows nt  similitud 0.247\n",
            "  5. ms  similitud 0.233\n",
            "\n",
            "Palabra: hockey\n",
            "  1. nhl  similitud 0.257\n",
            "  2. hockey players  similitud 0.256\n",
            "  3. ncaa  similitud 0.222\n",
            "  4. college hockey  similitud 0.221\n",
            "  5. hockey east  similitud 0.215\n",
            "\n",
            "Palabra: jesus\n",
            "  1. jesus christ  similitud 0.399\n",
            "  2. christ  similitud 0.378\n",
            "  3. god  similitud 0.310\n",
            "  4. jesus did  similitud 0.265\n",
            "  5. god jesus  similitud 0.260\n",
            "\n",
            "Palabra: car\n",
            "  1. new car  similitud 0.224\n",
            "  2. bought car  similitud 0.212\n",
            "  3. cars  similitud 0.197\n",
            "  4. car car  similitud 0.192\n",
            "  5. car like  similitud 0.191\n"
          ]
        }
      ]
    },
    {
      "cell_type": "markdown",
      "source": [
        "13 – Conclusiones"
      ],
      "metadata": {
        "id": "x_dbCnuPAKat"
      }
    },
    {
      "cell_type": "markdown",
      "source": [
        "* Con el corpus 20 Newsgroups distribuido en scikit-learn 1.6.1, la configuración TF-IDF (1–2 gramas) + ComplementNB alcanza un F1-macro ≈ 0,70, lo que representa una mejora de unos 12 puntos porcentuales frente al modelo base (≈ 0,58).\n",
        "\n",
        "* Las vecindades por similitud coseno siguen mostrando coherencia temática a nivel de documento y de término, confirmando que la representación TF-IDF capta patrones semánticos útiles.\n",
        "\n",
        "* El ejercicio demuestra que un modelo lineal ligero aún ofrece un rendimiento competitivo sin recurrir a arquitecturas profundas; sin embargo, el techo práctico depende de la versión exacta del corpus y de la limpieza aplicada a los datos de prueba.\n"
      ],
      "metadata": {
        "id": "eGGqLAbdALRo"
      }
    }
  ]
}