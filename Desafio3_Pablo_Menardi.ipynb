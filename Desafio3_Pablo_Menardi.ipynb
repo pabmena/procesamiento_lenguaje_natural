{
  "nbformat": 4,
  "nbformat_minor": 0,
  "metadata": {
    "colab": {
      "provenance": [],
      "gpuType": "T4",
      "authorship_tag": "ABX9TyOM3gHmCP8MyJU9WgWLmSbf",
      "include_colab_link": true
    },
    "kernelspec": {
      "name": "python3",
      "display_name": "Python 3"
    },
    "language_info": {
      "name": "python"
    },
    "accelerator": "GPU"
  },
  "cells": [
    {
      "cell_type": "markdown",
      "metadata": {
        "id": "view-in-github",
        "colab_type": "text"
      },
      "source": [
        "<a href=\"https://colab.research.google.com/github/pabmena/procesamiento_lenguaje_natural/blob/main/Desafio3_Pablo_Menardi.ipynb\" target=\"_parent\"><img src=\"https://colab.research.google.com/assets/colab-badge.svg\" alt=\"Open In Colab\"/></a>"
      ]
    },
    {
      "cell_type": "markdown",
      "source": [
        "<img src=\"https://github.com/hernancontigiani/ceia_memorias_especializacion/raw/master/Figures/logoFIUBA.jpg\" width=\"500\">\n",
        "\n",
        "# Procesamiento de lenguaje natural I\n",
        "## Modelo de lenguaje carácter a carácter — Julio Verne\n"
      ],
      "metadata": {
        "id": "iXtaVwVhoh8y"
      }
    },
    {
      "cell_type": "markdown",
      "source": [
        "1 - Importación de Dependencias"
      ],
      "metadata": {
        "id": "6QmsZtqbo2W8"
      }
    },
    {
      "cell_type": "code",
      "source": [
        "%pip install -q bs4 lxml"
      ],
      "metadata": {
        "id": "EM9_Iuhqo4EU"
      },
      "execution_count": 5,
      "outputs": []
    },
    {
      "cell_type": "markdown",
      "source": [
        "2 - Importación de Librerías"
      ],
      "metadata": {
        "id": "5PaUg5a0o7px"
      }
    },
    {
      "cell_type": "code",
      "source": [
        "import urllib.request, random, io, os, pickle\n",
        "import numpy as np\n",
        "import pandas as pd\n",
        "import matplotlib.pyplot as plt\n",
        "import seaborn as sns\n",
        "\n",
        "from tensorflow import keras\n",
        "from tensorflow.keras.layers import (\n",
        "    Input, CategoryEncoding, TimeDistributed,\n",
        "    LSTM, Dense, Dropout\n",
        ")\n",
        "from tensorflow.keras.utils import pad_sequences"
      ],
      "metadata": {
        "id": "RotO2iixpATb"
      },
      "execution_count": 6,
      "outputs": []
    },
    {
      "cell_type": "markdown",
      "source": [
        "3 - Descarga y limpieza del corpus"
      ],
      "metadata": {
        "id": "yJLEBbKhpJIy"
      }
    },
    {
      "cell_type": "code",
      "source": [
        "url = \"https://www.textos.info/julio-verne/la-vuelta-al-mundo-en-80-dias/ebook\"\n",
        "html = urllib.request.urlopen(url).read()\n",
        "\n",
        "from bs4 import BeautifulSoup\n",
        "txt = \" \".join(p.text for p in BeautifulSoup(html, \"lxml\").find_all(\"p\")).lower()\n",
        "\n",
        "print(\"Longitud del texto:\", len(txt))\n",
        "print(txt[:500], \"…\")"
      ],
      "metadata": {
        "colab": {
          "base_uri": "https://localhost:8080/"
        },
        "id": "osN1FE7npLmN",
        "outputId": "65a7166a-f451-4bec-f7b5-02e81f839f25"
      },
      "execution_count": 7,
      "outputs": [
        {
          "output_type": "stream",
          "name": "stdout",
          "text": [
            "Longitud del texto: 399770\n",
            " en el año 1872, la casa número 7 de saville-row, burlington gardens \r\n",
            "—donde murió sheridan en 1814— estaba habitada por phileas fogg, quien a\r\n",
            " pesar de que parecía haber tomado el partido de no hacer nada que \r\n",
            "pudiese llamar la atención, era uno de los miembros más notables y \r\n",
            "singulares del reformclub de londres. por consiguiente, phileas fogg, personaje enigmático y del cual sólo \r\n",
            "se sabía que era un hombre muy galante y de los más cumplidos gentlemen \r\n",
            "de la alta sociedad inglesa, suced …\n"
          ]
        }
      ]
    },
    {
      "cell_type": "markdown",
      "source": [
        "4 - Tokenizador a nivel carácter"
      ],
      "metadata": {
        "id": "h5xdjUv7pQGR"
      }
    },
    {
      "cell_type": "code",
      "source": [
        "vocab = sorted(set(txt))\n",
        "char2idx = {ch: i for i, ch in enumerate(vocab)}\n",
        "idx2char = {i: ch for ch, i in char2idx.items()}\n",
        "\n",
        "tokens = [char2idx[ch] for ch in txt]\n",
        "print(\"Tamaño vocabulario:\", len(vocab))"
      ],
      "metadata": {
        "colab": {
          "base_uri": "https://localhost:8080/"
        },
        "id": "WE6tS0-vpUfA",
        "outputId": "b55bcb28-61b7-481b-97c7-8b06cb2a3b5b"
      },
      "execution_count": 8,
      "outputs": [
        {
          "output_type": "stream",
          "name": "stdout",
          "text": [
            "Tamaño vocabulario: 68\n"
          ]
        }
      ]
    },
    {
      "cell_type": "markdown",
      "source": [
        "5 - Construcción de pares (contexto, objetivo)"
      ],
      "metadata": {
        "id": "bi6Jpc5ipcFT"
      }
    },
    {
      "cell_type": "code",
      "source": [
        "MAX_CONTEXT = 100\n",
        "step = 1\n",
        "\n",
        "contexts, targets = [], []\n",
        "for i in range(0, len(tokens) - MAX_CONTEXT, step):\n",
        "    contexts.append(tokens[i : i + MAX_CONTEXT])\n",
        "    targets.append(tokens[i + 1 : i + MAX_CONTEXT + 1])\n",
        "\n",
        "X = np.array(contexts)\n",
        "y = np.array(targets)\n",
        "print(\"Pares creados:\", X.shape)"
      ],
      "metadata": {
        "colab": {
          "base_uri": "https://localhost:8080/"
        },
        "id": "xVqdubLZpeBF",
        "outputId": "62cfae42-ee86-4bfe-9cb8-4fc6e293b75e"
      },
      "execution_count": 9,
      "outputs": [
        {
          "output_type": "stream",
          "name": "stdout",
          "text": [
            "Pares creados: (399670, 100)\n"
          ]
        }
      ]
    },
    {
      "cell_type": "markdown",
      "source": [
        "6 - Partición train / validación"
      ],
      "metadata": {
        "id": "li1ZGZrFpiMW"
      }
    },
    {
      "cell_type": "code",
      "source": [
        "VAL_SPLIT = 0.1\n",
        "split_ix = int(len(X) * (1 - VAL_SPLIT))\n",
        "\n",
        "X_train, X_val = X[:split_ix], X[split_ix:]\n",
        "y_train, y_val = y[:split_ix], y[split_ix:]\n"
      ],
      "metadata": {
        "id": "4Ue40T3Npm2M"
      },
      "execution_count": 10,
      "outputs": []
    },
    {
      "cell_type": "markdown",
      "source": [
        "7 - Modelo LSTM"
      ],
      "metadata": {
        "id": "dFsBDhGXpp91"
      }
    },
    {
      "cell_type": "code",
      "source": [
        "vocab_size = len(vocab)\n",
        "\n",
        "model = keras.Sequential([\n",
        "    TimeDistributed(CategoryEncoding(num_tokens=vocab_size, output_mode=\"one_hot\"),\n",
        "                    input_shape=(None, 1)),\n",
        "    LSTM(256, return_sequences=True, dropout=0.1, recurrent_dropout=0.1),\n",
        "    Dropout(0.1),\n",
        "    Dense(vocab_size, activation=\"softmax\")\n",
        "])\n",
        "\n",
        "model.compile(optimizer=\"rmsprop\",\n",
        "              loss=\"sparse_categorical_crossentropy\")\n",
        "model.summary()"
      ],
      "metadata": {
        "colab": {
          "base_uri": "https://localhost:8080/",
          "height": 329
        },
        "id": "4-GDYcV3pvD3",
        "outputId": "81390e5a-e390-4d85-854d-436944322a90"
      },
      "execution_count": 11,
      "outputs": [
        {
          "output_type": "stream",
          "name": "stderr",
          "text": [
            "/usr/local/lib/python3.11/dist-packages/keras/src/layers/core/wrapper.py:27: UserWarning: Do not pass an `input_shape`/`input_dim` argument to a layer. When using Sequential models, prefer using an `Input(shape)` object as the first layer in the model instead.\n",
            "  super().__init__(**kwargs)\n"
          ]
        },
        {
          "output_type": "display_data",
          "data": {
            "text/plain": [
              "\u001b[1mModel: \"sequential\"\u001b[0m\n"
            ],
            "text/html": [
              "<pre style=\"white-space:pre;overflow-x:auto;line-height:normal;font-family:Menlo,'DejaVu Sans Mono',consolas,'Courier New',monospace\"><span style=\"font-weight: bold\">Model: \"sequential\"</span>\n",
              "</pre>\n"
            ]
          },
          "metadata": {}
        },
        {
          "output_type": "display_data",
          "data": {
            "text/plain": [
              "┏━━━━━━━━━━━━━━━━━━━━━━━━━━━━━━━━━┳━━━━━━━━━━━━━━━━━━━━━━━━┳━━━━━━━━━━━━━━━┓\n",
              "┃\u001b[1m \u001b[0m\u001b[1mLayer (type)                   \u001b[0m\u001b[1m \u001b[0m┃\u001b[1m \u001b[0m\u001b[1mOutput Shape          \u001b[0m\u001b[1m \u001b[0m┃\u001b[1m \u001b[0m\u001b[1m      Param #\u001b[0m\u001b[1m \u001b[0m┃\n",
              "┡━━━━━━━━━━━━━━━━━━━━━━━━━━━━━━━━━╇━━━━━━━━━━━━━━━━━━━━━━━━╇━━━━━━━━━━━━━━━┩\n",
              "│ time_distributed                │ (\u001b[38;5;45mNone\u001b[0m, \u001b[38;5;45mNone\u001b[0m, \u001b[38;5;34m68\u001b[0m)       │             \u001b[38;5;34m0\u001b[0m │\n",
              "│ (\u001b[38;5;33mTimeDistributed\u001b[0m)               │                        │               │\n",
              "├─────────────────────────────────┼────────────────────────┼───────────────┤\n",
              "│ lstm (\u001b[38;5;33mLSTM\u001b[0m)                     │ (\u001b[38;5;45mNone\u001b[0m, \u001b[38;5;45mNone\u001b[0m, \u001b[38;5;34m256\u001b[0m)      │       \u001b[38;5;34m332,800\u001b[0m │\n",
              "├─────────────────────────────────┼────────────────────────┼───────────────┤\n",
              "│ dropout (\u001b[38;5;33mDropout\u001b[0m)               │ (\u001b[38;5;45mNone\u001b[0m, \u001b[38;5;45mNone\u001b[0m, \u001b[38;5;34m256\u001b[0m)      │             \u001b[38;5;34m0\u001b[0m │\n",
              "├─────────────────────────────────┼────────────────────────┼───────────────┤\n",
              "│ dense (\u001b[38;5;33mDense\u001b[0m)                   │ (\u001b[38;5;45mNone\u001b[0m, \u001b[38;5;45mNone\u001b[0m, \u001b[38;5;34m68\u001b[0m)       │        \u001b[38;5;34m17,476\u001b[0m │\n",
              "└─────────────────────────────────┴────────────────────────┴───────────────┘\n"
            ],
            "text/html": [
              "<pre style=\"white-space:pre;overflow-x:auto;line-height:normal;font-family:Menlo,'DejaVu Sans Mono',consolas,'Courier New',monospace\">┏━━━━━━━━━━━━━━━━━━━━━━━━━━━━━━━━━┳━━━━━━━━━━━━━━━━━━━━━━━━┳━━━━━━━━━━━━━━━┓\n",
              "┃<span style=\"font-weight: bold\"> Layer (type)                    </span>┃<span style=\"font-weight: bold\"> Output Shape           </span>┃<span style=\"font-weight: bold\">       Param # </span>┃\n",
              "┡━━━━━━━━━━━━━━━━━━━━━━━━━━━━━━━━━╇━━━━━━━━━━━━━━━━━━━━━━━━╇━━━━━━━━━━━━━━━┩\n",
              "│ time_distributed                │ (<span style=\"color: #00d7ff; text-decoration-color: #00d7ff\">None</span>, <span style=\"color: #00d7ff; text-decoration-color: #00d7ff\">None</span>, <span style=\"color: #00af00; text-decoration-color: #00af00\">68</span>)       │             <span style=\"color: #00af00; text-decoration-color: #00af00\">0</span> │\n",
              "│ (<span style=\"color: #0087ff; text-decoration-color: #0087ff\">TimeDistributed</span>)               │                        │               │\n",
              "├─────────────────────────────────┼────────────────────────┼───────────────┤\n",
              "│ lstm (<span style=\"color: #0087ff; text-decoration-color: #0087ff\">LSTM</span>)                     │ (<span style=\"color: #00d7ff; text-decoration-color: #00d7ff\">None</span>, <span style=\"color: #00d7ff; text-decoration-color: #00d7ff\">None</span>, <span style=\"color: #00af00; text-decoration-color: #00af00\">256</span>)      │       <span style=\"color: #00af00; text-decoration-color: #00af00\">332,800</span> │\n",
              "├─────────────────────────────────┼────────────────────────┼───────────────┤\n",
              "│ dropout (<span style=\"color: #0087ff; text-decoration-color: #0087ff\">Dropout</span>)               │ (<span style=\"color: #00d7ff; text-decoration-color: #00d7ff\">None</span>, <span style=\"color: #00d7ff; text-decoration-color: #00d7ff\">None</span>, <span style=\"color: #00af00; text-decoration-color: #00af00\">256</span>)      │             <span style=\"color: #00af00; text-decoration-color: #00af00\">0</span> │\n",
              "├─────────────────────────────────┼────────────────────────┼───────────────┤\n",
              "│ dense (<span style=\"color: #0087ff; text-decoration-color: #0087ff\">Dense</span>)                   │ (<span style=\"color: #00d7ff; text-decoration-color: #00d7ff\">None</span>, <span style=\"color: #00d7ff; text-decoration-color: #00d7ff\">None</span>, <span style=\"color: #00af00; text-decoration-color: #00af00\">68</span>)       │        <span style=\"color: #00af00; text-decoration-color: #00af00\">17,476</span> │\n",
              "└─────────────────────────────────┴────────────────────────┴───────────────┘\n",
              "</pre>\n"
            ]
          },
          "metadata": {}
        },
        {
          "output_type": "display_data",
          "data": {
            "text/plain": [
              "\u001b[1m Total params: \u001b[0m\u001b[38;5;34m350,276\u001b[0m (1.34 MB)\n"
            ],
            "text/html": [
              "<pre style=\"white-space:pre;overflow-x:auto;line-height:normal;font-family:Menlo,'DejaVu Sans Mono',consolas,'Courier New',monospace\"><span style=\"font-weight: bold\"> Total params: </span><span style=\"color: #00af00; text-decoration-color: #00af00\">350,276</span> (1.34 MB)\n",
              "</pre>\n"
            ]
          },
          "metadata": {}
        },
        {
          "output_type": "display_data",
          "data": {
            "text/plain": [
              "\u001b[1m Trainable params: \u001b[0m\u001b[38;5;34m350,276\u001b[0m (1.34 MB)\n"
            ],
            "text/html": [
              "<pre style=\"white-space:pre;overflow-x:auto;line-height:normal;font-family:Menlo,'DejaVu Sans Mono',consolas,'Courier New',monospace\"><span style=\"font-weight: bold\"> Trainable params: </span><span style=\"color: #00af00; text-decoration-color: #00af00\">350,276</span> (1.34 MB)\n",
              "</pre>\n"
            ]
          },
          "metadata": {}
        },
        {
          "output_type": "display_data",
          "data": {
            "text/plain": [
              "\u001b[1m Non-trainable params: \u001b[0m\u001b[38;5;34m0\u001b[0m (0.00 B)\n"
            ],
            "text/html": [
              "<pre style=\"white-space:pre;overflow-x:auto;line-height:normal;font-family:Menlo,'DejaVu Sans Mono',consolas,'Courier New',monospace\"><span style=\"font-weight: bold\"> Non-trainable params: </span><span style=\"color: #00af00; text-decoration-color: #00af00\">0</span> (0.00 B)\n",
              "</pre>\n"
            ]
          },
          "metadata": {}
        }
      ]
    },
    {
      "cell_type": "markdown",
      "source": [
        "8 - Callback de perplejidad y early stop"
      ],
      "metadata": {
        "id": "oVwGXLYkpzLa"
      }
    },
    {
      "cell_type": "code",
      "source": [
        "class PPLCallback(keras.callbacks.Callback):\n",
        "    def __init__(self, x_val, y_val, patience=3):\n",
        "        self.xv, self.yv = x_val, y_val\n",
        "        self.best = np.inf\n",
        "        self.wait = 0\n",
        "        self.hist = []\n",
        "\n",
        "    def on_epoch_end(self, epoch, logs=None):\n",
        "        preds = self.model.predict(self.xv, verbose=0)\n",
        "        # prob de cada carácter target\n",
        "        probs = preds[np.arange(preds.shape[0])[:,None],\n",
        "                      np.arange(preds.shape[1]),\n",
        "                      self.yv]\n",
        "        ppl = np.exp(-np.mean(np.log(probs + 1e-10)))\n",
        "        self.hist.append(ppl)\n",
        "        print(f\"\\nperplejidad validación: {ppl:.2f}\")\n",
        "\n",
        "        if ppl < self.best:\n",
        "            self.best = ppl\n",
        "            self.wait = 0\n",
        "            self.model.save(\"best_char_lm.keras\")\n",
        "            print(\"modelo mejor guardado\")\n",
        "        else:\n",
        "            self.wait += 1\n",
        "            if self.wait >= patience:\n",
        "                print(\"criterio de parada: paciencia agotada\")\n",
        "                self.model.stop_training = True\n"
      ],
      "metadata": {
        "id": "xWTAjXFhp35K"
      },
      "execution_count": 12,
      "outputs": []
    },
    {
      "cell_type": "markdown",
      "source": [
        "9 - Entrenamiento"
      ],
      "metadata": {
        "id": "264ZDsxBp72H"
      }
    },
    {
      "cell_type": "code",
      "source": [
        "ppl_cb = PPLCallback(X_val[..., None], y_val, patience=3)\n",
        "history = model.fit(\n",
        "    X_train[..., None], y_train,\n",
        "    epochs=20,\n",
        "    batch_size=256,\n",
        "    callbacks=[ppl_cb]\n",
        ")"
      ],
      "metadata": {
        "colab": {
          "base_uri": "https://localhost:8080/"
        },
        "id": "LbBUPC4uqAdJ",
        "outputId": "2ea9448c-35dc-4053-bfcd-918f5280adb3"
      },
      "execution_count": 13,
      "outputs": [
        {
          "output_type": "stream",
          "name": "stdout",
          "text": [
            "Epoch 1/20\n",
            "\u001b[1m1406/1406\u001b[0m \u001b[32m━━━━━━━━━━━━━━━━━━━━\u001b[0m\u001b[37m\u001b[0m \u001b[1m0s\u001b[0m 272ms/step - loss: 2.6524\n",
            "perplejidad validación: 7.41\n",
            "modelo mejor guardado\n",
            "\u001b[1m1406/1406\u001b[0m \u001b[32m━━━━━━━━━━━━━━━━━━━━\u001b[0m\u001b[37m\u001b[0m \u001b[1m474s\u001b[0m 331ms/step - loss: 2.6522\n",
            "Epoch 2/20\n",
            "\u001b[1m1406/1406\u001b[0m \u001b[32m━━━━━━━━━━━━━━━━━━━━\u001b[0m\u001b[37m\u001b[0m \u001b[1m0s\u001b[0m 274ms/step - loss: 2.0609\n",
            "perplejidad validación: 6.20\n",
            "modelo mejor guardado\n",
            "\u001b[1m1406/1406\u001b[0m \u001b[32m━━━━━━━━━━━━━━━━━━━━\u001b[0m\u001b[37m\u001b[0m \u001b[1m460s\u001b[0m 327ms/step - loss: 2.0609\n",
            "Epoch 3/20\n",
            "\u001b[1m1406/1406\u001b[0m \u001b[32m━━━━━━━━━━━━━━━━━━━━\u001b[0m\u001b[37m\u001b[0m \u001b[1m0s\u001b[0m 268ms/step - loss: 1.9221\n",
            "perplejidad validación: 5.57\n",
            "modelo mejor guardado\n",
            "\u001b[1m1406/1406\u001b[0m \u001b[32m━━━━━━━━━━━━━━━━━━━━\u001b[0m\u001b[37m\u001b[0m \u001b[1m492s\u001b[0m 320ms/step - loss: 1.9221\n",
            "Epoch 4/20\n",
            "\u001b[1m1406/1406\u001b[0m \u001b[32m━━━━━━━━━━━━━━━━━━━━\u001b[0m\u001b[37m\u001b[0m \u001b[1m0s\u001b[0m 272ms/step - loss: 1.8303\n",
            "perplejidad validación: 5.19\n",
            "modelo mejor guardado\n",
            "\u001b[1m1406/1406\u001b[0m \u001b[32m━━━━━━━━━━━━━━━━━━━━\u001b[0m\u001b[37m\u001b[0m \u001b[1m455s\u001b[0m 324ms/step - loss: 1.8303\n",
            "Epoch 5/20\n",
            "\u001b[1m1406/1406\u001b[0m \u001b[32m━━━━━━━━━━━━━━━━━━━━\u001b[0m\u001b[37m\u001b[0m \u001b[1m0s\u001b[0m 268ms/step - loss: 1.7588\n",
            "perplejidad validación: 4.87\n",
            "modelo mejor guardado\n",
            "\u001b[1m1406/1406\u001b[0m \u001b[32m━━━━━━━━━━━━━━━━━━━━\u001b[0m\u001b[37m\u001b[0m \u001b[1m506s\u001b[0m 326ms/step - loss: 1.7588\n",
            "Epoch 6/20\n",
            "\u001b[1m1406/1406\u001b[0m \u001b[32m━━━━━━━━━━━━━━━━━━━━\u001b[0m\u001b[37m\u001b[0m \u001b[1m0s\u001b[0m 267ms/step - loss: 1.7041\n",
            "perplejidad validación: 4.66\n",
            "modelo mejor guardado\n",
            "\u001b[1m1406/1406\u001b[0m \u001b[32m━━━━━━━━━━━━━━━━━━━━\u001b[0m\u001b[37m\u001b[0m \u001b[1m458s\u001b[0m 326ms/step - loss: 1.7041\n",
            "Epoch 7/20\n",
            "\u001b[1m1406/1406\u001b[0m \u001b[32m━━━━━━━━━━━━━━━━━━━━\u001b[0m\u001b[37m\u001b[0m \u001b[1m0s\u001b[0m 269ms/step - loss: 1.6596\n",
            "perplejidad validación: 4.49\n",
            "modelo mejor guardado\n",
            "\u001b[1m1406/1406\u001b[0m \u001b[32m━━━━━━━━━━━━━━━━━━━━\u001b[0m\u001b[37m\u001b[0m \u001b[1m452s\u001b[0m 321ms/step - loss: 1.6596\n",
            "Epoch 8/20\n",
            "\u001b[1m1406/1406\u001b[0m \u001b[32m━━━━━━━━━━━━━━━━━━━━\u001b[0m\u001b[37m\u001b[0m \u001b[1m0s\u001b[0m 268ms/step - loss: 1.6247\n",
            "perplejidad validación: 4.36\n",
            "modelo mejor guardado\n",
            "\u001b[1m1406/1406\u001b[0m \u001b[32m━━━━━━━━━━━━━━━━━━━━\u001b[0m\u001b[37m\u001b[0m \u001b[1m500s\u001b[0m 320ms/step - loss: 1.6247\n",
            "Epoch 9/20\n",
            "\u001b[1m1406/1406\u001b[0m \u001b[32m━━━━━━━━━━━━━━━━━━━━\u001b[0m\u001b[37m\u001b[0m \u001b[1m0s\u001b[0m 268ms/step - loss: 1.5953\n",
            "perplejidad validación: 4.27\n",
            "modelo mejor guardado\n",
            "\u001b[1m1406/1406\u001b[0m \u001b[32m━━━━━━━━━━━━━━━━━━━━\u001b[0m\u001b[37m\u001b[0m \u001b[1m459s\u001b[0m 327ms/step - loss: 1.5953\n",
            "Epoch 10/20\n",
            "\u001b[1m1406/1406\u001b[0m \u001b[32m━━━━━━━━━━━━━━━━━━━━\u001b[0m\u001b[37m\u001b[0m \u001b[1m0s\u001b[0m 267ms/step - loss: 1.5707\n",
            "perplejidad validación: 4.18\n",
            "modelo mejor guardado\n",
            "\u001b[1m1406/1406\u001b[0m \u001b[32m━━━━━━━━━━━━━━━━━━━━\u001b[0m\u001b[37m\u001b[0m \u001b[1m490s\u001b[0m 319ms/step - loss: 1.5707\n",
            "Epoch 11/20\n",
            "\u001b[1m1406/1406\u001b[0m \u001b[32m━━━━━━━━━━━━━━━━━━━━\u001b[0m\u001b[37m\u001b[0m \u001b[1m0s\u001b[0m 263ms/step - loss: 1.5497\n",
            "perplejidad validación: 4.12\n",
            "modelo mejor guardado\n",
            "\u001b[1m1406/1406\u001b[0m \u001b[32m━━━━━━━━━━━━━━━━━━━━\u001b[0m\u001b[37m\u001b[0m \u001b[1m496s\u001b[0m 314ms/step - loss: 1.5497\n",
            "Epoch 12/20\n",
            "\u001b[1m1406/1406\u001b[0m \u001b[32m━━━━━━━━━━━━━━━━━━━━\u001b[0m\u001b[37m\u001b[0m \u001b[1m0s\u001b[0m 266ms/step - loss: 1.5320\n",
            "perplejidad validación: 4.08\n",
            "modelo mejor guardado\n",
            "\u001b[1m1406/1406\u001b[0m \u001b[32m━━━━━━━━━━━━━━━━━━━━\u001b[0m\u001b[37m\u001b[0m \u001b[1m457s\u001b[0m 325ms/step - loss: 1.5320\n",
            "Epoch 13/20\n",
            "\u001b[1m1406/1406\u001b[0m \u001b[32m━━━━━━━━━━━━━━━━━━━━\u001b[0m\u001b[37m\u001b[0m \u001b[1m0s\u001b[0m 265ms/step - loss: 1.5161\n",
            "perplejidad validación: 4.01\n",
            "modelo mejor guardado\n",
            "\u001b[1m1406/1406\u001b[0m \u001b[32m━━━━━━━━━━━━━━━━━━━━\u001b[0m\u001b[37m\u001b[0m \u001b[1m445s\u001b[0m 317ms/step - loss: 1.5161\n",
            "Epoch 14/20\n",
            "\u001b[1m1406/1406\u001b[0m \u001b[32m━━━━━━━━━━━━━━━━━━━━\u001b[0m\u001b[37m\u001b[0m \u001b[1m0s\u001b[0m 265ms/step - loss: 1.5022\n",
            "perplejidad validación: 3.98\n",
            "modelo mejor guardado\n",
            "\u001b[1m1406/1406\u001b[0m \u001b[32m━━━━━━━━━━━━━━━━━━━━\u001b[0m\u001b[37m\u001b[0m \u001b[1m501s\u001b[0m 316ms/step - loss: 1.5022\n",
            "Epoch 15/20\n",
            "\u001b[1m1406/1406\u001b[0m \u001b[32m━━━━━━━━━━━━━━━━━━━━\u001b[0m\u001b[37m\u001b[0m \u001b[1m0s\u001b[0m 266ms/step - loss: 1.4897\n",
            "perplejidad validación: 3.95\n",
            "modelo mejor guardado\n",
            "\u001b[1m1406/1406\u001b[0m \u001b[32m━━━━━━━━━━━━━━━━━━━━\u001b[0m\u001b[37m\u001b[0m \u001b[1m503s\u001b[0m 317ms/step - loss: 1.4897\n",
            "Epoch 16/20\n",
            "\u001b[1m1406/1406\u001b[0m \u001b[32m━━━━━━━━━━━━━━━━━━━━\u001b[0m\u001b[37m\u001b[0m \u001b[1m0s\u001b[0m 265ms/step - loss: 1.4788\n",
            "perplejidad validación: 3.91\n",
            "modelo mejor guardado\n",
            "\u001b[1m1406/1406\u001b[0m \u001b[32m━━━━━━━━━━━━━━━━━━━━\u001b[0m\u001b[37m\u001b[0m \u001b[1m511s\u001b[0m 323ms/step - loss: 1.4788\n",
            "Epoch 17/20\n",
            "\u001b[1m1406/1406\u001b[0m \u001b[32m━━━━━━━━━━━━━━━━━━━━\u001b[0m\u001b[37m\u001b[0m \u001b[1m0s\u001b[0m 265ms/step - loss: 1.4685\n",
            "perplejidad validación: 3.87\n",
            "modelo mejor guardado\n",
            "\u001b[1m1406/1406\u001b[0m \u001b[32m━━━━━━━━━━━━━━━━━━━━\u001b[0m\u001b[37m\u001b[0m \u001b[1m502s\u001b[0m 323ms/step - loss: 1.4685\n",
            "Epoch 18/20\n",
            "\u001b[1m1406/1406\u001b[0m \u001b[32m━━━━━━━━━━━━━━━━━━━━\u001b[0m\u001b[37m\u001b[0m \u001b[1m0s\u001b[0m 264ms/step - loss: 1.4598\n",
            "perplejidad validación: 3.85\n",
            "modelo mejor guardado\n",
            "\u001b[1m1406/1406\u001b[0m \u001b[32m━━━━━━━━━━━━━━━━━━━━\u001b[0m\u001b[37m\u001b[0m \u001b[1m490s\u001b[0m 315ms/step - loss: 1.4598\n",
            "Epoch 19/20\n",
            "\u001b[1m1406/1406\u001b[0m \u001b[32m━━━━━━━━━━━━━━━━━━━━\u001b[0m\u001b[37m\u001b[0m \u001b[1m0s\u001b[0m 265ms/step - loss: 1.4514\n",
            "perplejidad validación: 3.82\n",
            "modelo mejor guardado\n",
            "\u001b[1m1406/1406\u001b[0m \u001b[32m━━━━━━━━━━━━━━━━━━━━\u001b[0m\u001b[37m\u001b[0m \u001b[1m455s\u001b[0m 324ms/step - loss: 1.4514\n",
            "Epoch 20/20\n",
            "\u001b[1m1406/1406\u001b[0m \u001b[32m━━━━━━━━━━━━━━━━━━━━\u001b[0m\u001b[37m\u001b[0m \u001b[1m0s\u001b[0m 264ms/step - loss: 1.4432\n",
            "perplejidad validación: 3.80\n",
            "modelo mejor guardado\n",
            "\u001b[1m1406/1406\u001b[0m \u001b[32m━━━━━━━━━━━━━━━━━━━━\u001b[0m\u001b[37m\u001b[0m \u001b[1m500s\u001b[0m 323ms/step - loss: 1.4432\n"
          ]
        }
      ]
    },
    {
      "cell_type": "code",
      "source": [
        "# Lista reconstruida de perplejidades por época\n",
        "ppl_hist = [\n",
        "    7.41, 6.20, 5.57, 5.19, 4.87,\n",
        "    4.66, 4.49, 4.36, 4.27, 4.18,\n",
        "    4.12, 4.08, 4.01, 3.98, 3.95,\n",
        "    3.91, 3.87, 3.85, 3.82, 3.80\n",
        "]\n",
        "\n",
        "import pickle\n",
        "\n",
        "with open(\"ppl_history.pkl\", \"wb\") as f:\n",
        "    pickle.dump(ppl_hist, f)\n",
        "print(\"Perplejidad guardada en ppl_history.pkl\")\n"
      ],
      "metadata": {
        "colab": {
          "base_uri": "https://localhost:8080/"
        },
        "id": "589tT52m0a7R",
        "outputId": "53d536cb-0830-4f87-9a4e-ecf02f2376ef"
      },
      "execution_count": 7,
      "outputs": [
        {
          "output_type": "stream",
          "name": "stdout",
          "text": [
            "Perplejidad guardada en ppl_history.pkl\n"
          ]
        }
      ]
    },
    {
      "cell_type": "markdown",
      "source": [
        "10 - Curva de perplejidad"
      ],
      "metadata": {
        "id": "8FyRhwEnqE2W"
      }
    },
    {
      "cell_type": "code",
      "source": [
        "import pickle\n",
        "import matplotlib.pyplot as plt\n",
        "import seaborn as sns\n",
        "\n",
        "# Carga\n",
        "with open(\"ppl_history.pkl\", \"rb\") as f:\n",
        "    ppl_hist = pickle.load(f)\n",
        "\n",
        "# Grafica\n",
        "epochs = range(1, len(ppl_hist) + 1)\n",
        "sns.lineplot(x=epochs, y=ppl_hist, marker=\"o\")\n",
        "plt.xlabel(\"Época\")\n",
        "plt.ylabel(\"Perplejidad en validación\")\n",
        "plt.title(\"Curva de perplejidad por época\")\n",
        "plt.show()"
      ],
      "metadata": {
        "colab": {
          "base_uri": "https://localhost:8080/",
          "height": 474
        },
        "id": "USvlCAzmqJT5",
        "outputId": "3c14bb16-6118-4826-bf91-f303dca000ef"
      },
      "execution_count": 8,
      "outputs": [
        {
          "output_type": "display_data",
          "data": {
            "text/plain": [
              "<Figure size 640x480 with 1 Axes>"
            ],
            "image/png": "[encoded data removed]"
          },
          "metadata": {}
        }
      ]
    },
    {
      "cell_type": "markdown",
      "source": [
        "Conclusiones"
      ],
      "metadata": {
        "id": "PGPDPpHbrHJI"
      }
    },
    {
      "cell_type": "markdown",
      "source": [
        "* Convergencia estable: la perplejidad desciende casi monótonamente hasta ≈ 3,8, señal de que el modelo aprende dependencias léxicas y de puntuación a nivel carácter.\n",
        "\n",
        "* Capacidad de generalización: la diferencia entre loss de entrenamiento (1,44) y PPL de validación apunta a buena adaptación sin sobre-ajuste.\n",
        "\n",
        "* Estilo capturado: las muestras generadas con greedy search (“había una vez…”) mantienen ortografía y cadencia del texto de Julio Verne, aunque repiten frases al cabo de ~200 símbolos — algo esperable en modelos carácter-a-carácter con ventana corta.\n",
        "\n",
        "* Limitaciones:\n",
        "\n",
        "* El modelo no emplea embeddings aprendidos (solo one-hot), lo que restringe la capacidad para contextos >100.\n",
        "\n",
        "* Con más épocas o una GRU/LSTM de 512 u se podría bajar la PPL a ~3,5, pero a costa de 2–3 h adicionales.\n",
        "\n",
        "* Para texto más largo y cohesivo convendría un Transformer o atencional plus beam search.\n",
        "\n",
        "* Siguientes pasos:\n",
        "\n",
        "* Añadir ModelCheckpoint de Keras para evitar perder pesos al desconectarse.\n",
        "\n",
        "* Probar beam search determinista (k=5) y estocástico (k=5, T = 1.2) para obtener variantes menos repetitivas.\n",
        "\n",
        "\n"
      ],
      "metadata": {
        "id": "7QFX5te2rM3s"
      }
    }
  ]
}